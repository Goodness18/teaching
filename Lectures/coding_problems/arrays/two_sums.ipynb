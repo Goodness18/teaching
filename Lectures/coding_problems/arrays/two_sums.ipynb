{
 "cells": [
  {
   "cell_type": "markdown",
   "id": "25fc625a",
   "metadata": {},
   "source": [
    "# Problem:\n",
    "* https://leetcode.com/problems/two-sum/"
   ]
  },
  {
   "cell_type": "code",
   "execution_count": 8,
   "id": "000cc866",
   "metadata": {},
   "outputs": [],
   "source": [
    "class Solution:\n",
    "    def twoSum(self, nums: List[int], target: int) -> List[int]:\n",
    "        output = []\n",
    "        for i in range(len(nums)-1):\n",
    "            if target - nums[i] in nums:\n",
    "                for j in range(i+1,len(nums)):\n",
    "                    if nums[i]+nums[j]==target:\n",
    "                        output.append(i)\n",
    "                        output.append(j)\n",
    "                        return output "
   ]
  },
  {
   "cell_type": "code",
   "execution_count": null,
   "id": "2736315f",
   "metadata": {},
   "outputs": [],
   "source": []
  }
 ],
 "metadata": {
  "kernelspec": {
   "display_name": "Python 3 (ipykernel)",
   "language": "python",
   "name": "python3"
  },
  "language_info": {
   "codemirror_mode": {
    "name": "ipython",
    "version": 3
   },
   "file_extension": ".py",
   "mimetype": "text/x-python",
   "name": "python",
   "nbconvert_exporter": "python",
   "pygments_lexer": "ipython3",
   "version": "3.9.13"
  }
 },
 "nbformat": 4,
 "nbformat_minor": 5
}
