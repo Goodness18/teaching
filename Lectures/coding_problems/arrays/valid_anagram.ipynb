{
 "cells": [
  {
   "cell_type": "markdown",
   "id": "c7452af1",
   "metadata": {},
   "source": [
    "# Problem \n",
    "\n",
    "* https://leetcode.com/problems/valid-anagram/"
   ]
  },
  {
   "cell_type": "code",
   "execution_count": 8,
   "id": "bab2ba6b",
   "metadata": {},
   "outputs": [],
   "source": [
    "class Solution:\n",
    "    def isAnagram(self, s: str, t: str) -> bool:\n",
    "        if len(s)!=len(t):\n",
    "            return False\n",
    "        else:\n",
    "            for index in range(len(s)):\n",
    "                letterA = s[index]\n",
    "                letterB = t[index]\n",
    "                if s.count(letterA)!=t.count(letterA) or s.count(letterB)!=t.count(letterB):\n",
    "                    return False\n",
    "            return True"
   ]
  }
 ],
 "metadata": {
  "kernelspec": {
   "display_name": "Python 3 (ipykernel)",
   "language": "python",
   "name": "python3"
  },
  "language_info": {
   "codemirror_mode": {
    "name": "ipython",
    "version": 3
   },
   "file_extension": ".py",
   "mimetype": "text/x-python",
   "name": "python",
   "nbconvert_exporter": "python",
   "pygments_lexer": "ipython3",
   "version": "3.9.13"
  }
 },
 "nbformat": 4,
 "nbformat_minor": 5
}
