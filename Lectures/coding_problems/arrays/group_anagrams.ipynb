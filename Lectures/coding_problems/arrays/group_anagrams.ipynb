{
 "cells": [
  {
   "cell_type": "markdown",
   "id": "991ab80c",
   "metadata": {},
   "source": [
    "# Code link:\n",
    "* https://leetcode.com/problems/group-anagrams/"
   ]
  },
  {
   "cell_type": "markdown",
   "id": "bb5e2c13",
   "metadata": {},
   "source": [
    "# good answer;"
   ]
  },
  {
   "cell_type": "code",
   "execution_count": null,
   "id": "8ff2b4e4",
   "metadata": {},
   "outputs": [],
   "source": [
    "class Solution:\n",
    "    def groupAnagrams(self, strs):\n",
    "        anagram_map = defaultdict(list)\n",
    "        \n",
    "        for word in strs:\n",
    "            sorted_word = ''.join(sorted(word))\n",
    "            anagram_map[sorted_word].append(word)\n",
    "        \n",
    "        return list(anagram_map.values())"
   ]
  },
  {
   "cell_type": "markdown",
   "id": "489b51df",
   "metadata": {},
   "source": [
    "# Sloppy answer"
   ]
  },
  {
   "cell_type": "code",
   "execution_count": 6,
   "id": "9a0b1075",
   "metadata": {},
   "outputs": [],
   "source": [
    "class Solution:\n",
    "    def isAnagram(self, s: str, t: str) -> bool:\n",
    "        if len(s)!=len(t):\n",
    "            return False\n",
    "        else:\n",
    "            for index in range(len(s)):\n",
    "                letterA = s[index]\n",
    "                letterB = t[index]\n",
    "                if s.count(letterA)!=t.count(letterA) or s.count(letterB)!=t.count(letterB):\n",
    "                    return False\n",
    "            return True\n",
    "\n",
    "    def groupAnagrams(self, strs: List[str]) -> List[List[str]]:\n",
    "        if len(strs)<2:\n",
    "            return [[strs[0]]]\n",
    "        else:\n",
    "            L = []\n",
    "            skip = []\n",
    "            for i in range(len(strs)):\n",
    "                a = strs[i]\n",
    "                if i not in skip:\n",
    "                    _ = [a]\n",
    "                else:\n",
    "                    _ = None\n",
    "                for j in range(i+1,len(strs)):\n",
    "                    b = strs[j]\n",
    "                    if self.isAnagram(a,b) and j not in skip:\n",
    "                        skip.append(j)\n",
    "                        _.append(b)\n",
    "                if _:\n",
    "                    L.append(_)\n",
    "        return L"
   ]
  }
 ],
 "metadata": {
  "kernelspec": {
   "display_name": "Python 3 (ipykernel)",
   "language": "python",
   "name": "python3"
  },
  "language_info": {
   "codemirror_mode": {
    "name": "ipython",
    "version": 3
   },
   "file_extension": ".py",
   "mimetype": "text/x-python",
   "name": "python",
   "nbconvert_exporter": "python",
   "pygments_lexer": "ipython3",
   "version": "3.9.13"
  }
 },
 "nbformat": 4,
 "nbformat_minor": 5
}
