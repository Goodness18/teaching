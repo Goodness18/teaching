{
 "cells": [
  {
   "cell_type": "markdown",
   "id": "5aaa91a6",
   "metadata": {},
   "source": [
    "Link: https://leetcode.com/problems/top-k-frequent-elements/"
   ]
  },
  {
   "cell_type": "code",
   "execution_count": null,
   "id": "7ffad073",
   "metadata": {},
   "outputs": [],
   "source": [
    "nums = [1,1,1,2,2,3]\n",
    "k = 2\n",
    "d = {}\n",
    "for n in nums:\n",
    "    if n not in d.keys():\n",
    "        d[n]=0\n",
    "    d[n]+=1"
   ]
  },
  {
   "cell_type": "code",
   "execution_count": null,
   "id": "fb3107e3",
   "metadata": {},
   "outputs": [],
   "source": [
    "o = dict(sorted(d.keys(), reverse=True))\n",
    "o"
   ]
  },
  {
   "cell_type": "code",
   "execution_count": null,
   "id": "de8e48fa",
   "metadata": {},
   "outputs": [],
   "source": [
    "top_k = {'Eusebio': 120, 'Cruyff': 104, 'Pele': 150, 'Ronaldo': 132, 'Messi': 125}\n",
    "\n",
    "top_k = dict(sorted(top_k.items(), key=lambda x:x[1],reverse=True))\n",
    "print(top_k)\n"
   ]
  },
  {
   "cell_type": "code",
   "execution_count": null,
   "id": "7c66a84b",
   "metadata": {},
   "outputs": [],
   "source": [
    "\n",
    "dic = {1: \"one\", 2: \"two\", 3: \"three\"}\n",
    "dic.popitem()\n",
    "print(dic)"
   ]
  },
  {
   "cell_type": "code",
   "execution_count": null,
   "id": "4d3bb23c",
   "metadata": {},
   "outputs": [],
   "source": [
    "def merge_sort_reverse(arr):\n",
    "    if len(arr) <= 1:\n",
    "        return arr\n",
    "    \n",
    "    # Divide the list into two halves\n",
    "    mid = len(arr) // 2\n",
    "    left_half = arr[:mid]\n",
    "    right_half = arr[mid:]\n",
    "    \n",
    "    # Recursively sort the two halves\n",
    "    left_half = merge_sort_reverse(left_half)\n",
    "    right_half = merge_sort_reverse(right_half)\n",
    "    \n",
    "    # Merge the sorted halves in reverse order\n",
    "    merged = []\n",
    "    i = j = 0\n",
    "    while i < len(left_half) and j < len(right_half):\n",
    "        if left_half[i] >= right_half[j]:\n",
    "            merged.append(left_half[i])\n",
    "            i += 1\n",
    "        else:\n",
    "            merged.append(right_half[j])\n",
    "            j += 1\n",
    "    \n",
    "    # Add any remaining elements from the left half\n",
    "    while i < len(left_half):\n",
    "        merged.append(left_half[i])\n",
    "        i += 1\n",
    "    \n",
    "    # Add any remaining elements from the right half\n",
    "    while j < len(right_half):\n",
    "        merged.append(right_half[j])\n",
    "        j += 1\n",
    "    \n",
    "    return merged"
   ]
  },
  {
   "cell_type": "code",
   "execution_count": null,
   "id": "92f3ff79",
   "metadata": {},
   "outputs": [],
   "source": [
    "nums = [1,1,1,2,2,3]\n",
    "k = 2\n",
    "d = {}\n",
    "top_k = {}\n",
    "for index,n in enumerate(nums):\n",
    "    if n not in d.keys():\n",
    "        d[n]=0\n",
    "    d[n]+=1\n",
    "    if len(top_k.keys())<k:\n",
    "        #1: when top_k has less than k keys, fill it up\n",
    "        top_k[n] = d[n]\n",
    "    if d[n]>min(top_k.values()):\n",
    "        #2: if d[n] is greater than the smallest count in top_k, remove the smallest element\n",
    "        # and add d[n]\n",
    "        top_k.popitem()\n",
    "        top_k[n] = d[n]\n",
    "    #sort the dictionary by values from largest to smalled\n",
    "    top_k = dict(sorted(top_k.items(), key=lambda x:x[1],reverse=True))\n",
    "#return the top k elements\n",
    "print(list(top_k.values())[:k])\n",
    "        \n",
    "        \n",
    "    \n",
    "    "
   ]
  },
  {
   "cell_type": "code",
   "execution_count": 11,
   "id": "da5aaafc",
   "metadata": {},
   "outputs": [],
   "source": [
    "class Solution:\n",
    "    def topKFrequent(self, nums,k):\n",
    "        d = {} #one list to count the frequency of each item\n",
    "        top_k = {} #another list to count the top most frequent items\n",
    "        for index,n in enumerate(nums):\n",
    "            if n not in d.keys():\n",
    "                d[n]=0\n",
    "            d[n]+=1\n",
    "            if len(top_k.keys())<k:\n",
    "                top_k[n] = d[n]\n",
    "            if d[n]>min(top_k.values()) and len(top_k.keys())==k:\n",
    "                print(\"1:\",index,top_k)\n",
    "                if n not in d.keys():\n",
    "                    top_k.popitem()\n",
    "                top_k[n] = d[n]\n",
    "                print(\"2: \",index,top_k)\n",
    "            top_k = dict(sorted(top_k.items(), key=lambda x:x[1],reverse=True))\n",
    "            if len(top_k.keys())>k:\n",
    "                top_k.popitem()\n",
    "            print(\"sorted: \",top_k)\n",
    "        return list(top_k.keys())"
   ]
  },
  {
   "cell_type": "code",
   "execution_count": 12,
   "id": "d1898c33",
   "metadata": {},
   "outputs": [
    {
     "name": "stdout",
     "output_type": "stream",
     "text": [
      "sorted:  {4: 1}\n",
      "sorted:  {4: 1, 1: 1}\n",
      "sorted:  {4: 1, 1: 1}\n",
      "sorted:  {4: 1, 1: 1}\n",
      "1: 4 {4: 1, 1: 1}\n",
      "2:  4 {4: 1, 1: 1, -1: 2}\n",
      "sorted:  {-1: 2, 4: 1}\n",
      "1: 5 {-1: 2, 4: 1}\n",
      "2:  5 {-1: 2, 4: 1, 2: 2}\n",
      "sorted:  {-1: 2, 2: 2}\n",
      "sorted:  {-1: 2, 2: 2}\n"
     ]
    },
    {
     "data": {
      "text/plain": [
       "[-1, 2]"
      ]
     },
     "execution_count": 12,
     "metadata": {},
     "output_type": "execute_result"
    }
   ],
   "source": [
    "arr = [4,1,-1,2,-1,2,3]\n",
    "k = 2\n",
    "Solution().topKFrequent(arr,k)"
   ]
  },
  {
   "cell_type": "code",
   "execution_count": 21,
   "id": "a5bf2fb6",
   "metadata": {},
   "outputs": [],
   "source": []
  }
 ],
 "metadata": {
  "kernelspec": {
   "display_name": "Python 3 (ipykernel)",
   "language": "python",
   "name": "python3"
  },
  "language_info": {
   "codemirror_mode": {
    "name": "ipython",
    "version": 3
   },
   "file_extension": ".py",
   "mimetype": "text/x-python",
   "name": "python",
   "nbconvert_exporter": "python",
   "pygments_lexer": "ipython3",
   "version": "3.9.13"
  }
 },
 "nbformat": 4,
 "nbformat_minor": 5
}
