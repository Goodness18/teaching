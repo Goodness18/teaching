{
 "cells": [
  {
   "cell_type": "code",
   "execution_count": null,
   "id": "1b1231c3",
   "metadata": {},
   "outputs": [],
   "source": [
    "# Link:\n",
    "\n",
    "* https://leetcode.com/problems/contains-duplicate/"
   ]
  },
  {
   "cell_type": "code",
   "execution_count": 1,
   "id": "5471e848",
   "metadata": {},
   "outputs": [],
   "source": [
    "class Solution:\n",
    "    def containsDuplicate(self, nums: List[int]) -> bool:\n",
    "        L = {}\n",
    "        for j in nums:\n",
    "            if j not in L.keys():\n",
    "                L[j] = 1\n",
    "            else:\n",
    "                L[j]+=1\n",
    "                if L[j]>1:\n",
    "                    return True\n",
    "        return False"
   ]
  },
  {
   "cell_type": "code",
   "execution_count": null,
   "id": "bc019507",
   "metadata": {},
   "outputs": [],
   "source": []
  }
 ],
 "metadata": {
  "kernelspec": {
   "display_name": "Python 3 (ipykernel)",
   "language": "python",
   "name": "python3"
  },
  "language_info": {
   "codemirror_mode": {
    "name": "ipython",
    "version": 3
   },
   "file_extension": ".py",
   "mimetype": "text/x-python",
   "name": "python",
   "nbconvert_exporter": "python",
   "pygments_lexer": "ipython3",
   "version": "3.9.13"
  }
 },
 "nbformat": 4,
 "nbformat_minor": 5
}
