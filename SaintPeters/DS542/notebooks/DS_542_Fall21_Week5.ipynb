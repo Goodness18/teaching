{
 "cells": [
  {
   "cell_type": "markdown",
   "metadata": {
    "id": "3hODVu1ExA73"
   },
   "source": [
    "# Examples from last week\n",
    "---"
   ]
  },
  {
   "cell_type": "code",
   "execution_count": null,
   "metadata": {
    "id": "D8TJY0NHxA75"
   },
   "outputs": [],
   "source": [
    "# example of a while statement\n",
    "\n",
    "x = 1\n",
    "y = 10\n",
    "\n",
    "counter = 0\n",
    "\n",
    "while x < y:\n",
    "    print(x, y)\n",
    "    x += 2\n",
    "    counter += 1\n",
    "    print(f\"This while statment looped {counter} times\")"
   ]
  },
  {
   "cell_type": "code",
   "execution_count": null,
   "metadata": {
    "id": "YHFab_ySxA76"
   },
   "outputs": [],
   "source": [
    "# for loop example\n",
    "\n",
    "days_in_week = [\"Mon\", \"Tue\", \"Wed\", \"Thur\", \"Fri\", \"Sat\", \"Sun\"]\n",
    "\n",
    "for day in days_in_week:\n",
    "    print(day)\n",
    "    \n",
    "    if day == \"Fri\":\n",
    "        break\n",
    "        \n",
    "print(\"Weekend starts!\")"
   ]
  },
  {
   "cell_type": "markdown",
   "metadata": {
    "id": "ze1Fy23RxA77"
   },
   "source": [
    "# functions\n",
    "---"
   ]
  },
  {
   "cell_type": "code",
   "execution_count": null,
   "metadata": {
    "id": "X0C4hecexA77"
   },
   "outputs": [],
   "source": [
    "def greeting():\n",
    "    print(\"Hello!\")"
   ]
  },
  {
   "cell_type": "code",
   "execution_count": null,
   "metadata": {
    "id": "R--aRgr0xA78",
    "outputId": "6a26331a-9d86-4c3f-8699-f508c546fcd8"
   },
   "outputs": [],
   "source": [
    "greeting()"
   ]
  },
  {
   "cell_type": "code",
   "execution_count": null,
   "metadata": {
    "id": "0OhR3oxexA79"
   },
   "outputs": [],
   "source": [
    "# naming functions best practice\n",
    "\n",
    "# function names should include a verb\n",
    "\n",
    "# set_password()\n",
    "# refresh_connection()\n",
    "# extract_version()\n",
    "# add_numbers()"
   ]
  },
  {
   "cell_type": "code",
   "execution_count": null,
   "metadata": {
    "id": "j1-FW0wIxA79"
   },
   "outputs": [],
   "source": [
    "# function without parameters that prints value\n",
    "\n",
    "def say_goodbye():\n",
    "    print(\"It was nice seeing you, goodbye for now.\")"
   ]
  },
  {
   "cell_type": "code",
   "execution_count": null,
   "metadata": {
    "id": "wmJTzzSuxA7-",
    "outputId": "f9b2e9c5-8e3c-4ee7-bf52-31f19bda14a1"
   },
   "outputs": [],
   "source": [
    "say_goodbye()"
   ]
  },
  {
   "cell_type": "code",
   "execution_count": null,
   "metadata": {
    "id": "FvpItHa2xA7-"
   },
   "outputs": [],
   "source": [
    "# function without parameters that returns a value\n",
    "\n",
    "def return_pi():\n",
    "    return 3.14159"
   ]
  },
  {
   "cell_type": "code",
   "execution_count": null,
   "metadata": {
    "id": "B5YXdRSVxA7-"
   },
   "outputs": [],
   "source": [
    "var_one = return_pi()"
   ]
  },
  {
   "cell_type": "code",
   "execution_count": null,
   "metadata": {
    "id": "KlxbbU1ZxA7_",
    "outputId": "659f917c-6e86-4aa4-8051-5e3ec2bfadb1"
   },
   "outputs": [],
   "source": [
    "var_one"
   ]
  },
  {
   "cell_type": "code",
   "execution_count": null,
   "metadata": {
    "id": "CwRWXgRixA7_"
   },
   "outputs": [],
   "source": [
    "# function with one parameter that prints a value\n",
    "\n",
    "def extract_length(text):\n",
    "    print(len(text))"
   ]
  },
  {
   "cell_type": "code",
   "execution_count": null,
   "metadata": {
    "id": "w47HrxvFxA7_",
    "outputId": "0e4847d6-3eaf-44d9-f740-e2d2abe2c778"
   },
   "outputs": [],
   "source": [
    "extract_length(text = \"Hello\")"
   ]
  },
  {
   "cell_type": "code",
   "execution_count": null,
   "metadata": {
    "id": "t9Ok6RRDxA8A",
    "outputId": "ba85c6cc-7ac6-4231-a773-a610eaca3a3c"
   },
   "outputs": [],
   "source": [
    "extract_length(\"DS542 Fall 2021 Week 5\")"
   ]
  },
  {
   "cell_type": "code",
   "execution_count": null,
   "metadata": {
    "id": "4mMRVIASxA8A"
   },
   "outputs": [],
   "source": [
    "# function with one paramenter that returns a value\n",
    "\n",
    "def triple(x):\n",
    "    return x * 3"
   ]
  },
  {
   "cell_type": "code",
   "execution_count": null,
   "metadata": {
    "id": "w99FqNwtxA8B"
   },
   "outputs": [],
   "source": [
    "y = 100"
   ]
  },
  {
   "cell_type": "code",
   "execution_count": null,
   "metadata": {
    "id": "q6SyLK0YxA8B"
   },
   "outputs": [],
   "source": [
    "z = triple(y)"
   ]
  },
  {
   "cell_type": "code",
   "execution_count": null,
   "metadata": {
    "id": "kqg3s7cpxA8B",
    "outputId": "43c4174e-2d58-4fe5-d421-6472d4bf81fe"
   },
   "outputs": [],
   "source": [
    "z"
   ]
  },
  {
   "cell_type": "code",
   "execution_count": null,
   "metadata": {
    "id": "QoJRQPeyxA8C",
    "outputId": "f2e096ba-674b-4cdc-b9ae-bf75617497da"
   },
   "outputs": [],
   "source": [
    "y = triple(y)\n",
    "y"
   ]
  },
  {
   "cell_type": "code",
   "execution_count": null,
   "metadata": {
    "id": "N3olyR_-xA8C"
   },
   "outputs": [],
   "source": [
    "# turning previous class examples into functions\n",
    "\n",
    "# here is a function to guess a secret number between 1-10\n",
    "\n",
    "def guess_secret_number():\n",
    "    import random\n",
    "    secret_number = random.randint(1, 10)\n",
    "    \n",
    "    your_guess = None\n",
    "    guesses = 0\n",
    "    \n",
    "    while your_guess != secret_number:\n",
    "        \n",
    "        guesses += 1\n",
    "        print(\"guess a number from 1-10\")\n",
    "        your_guess = int(input())\n",
    "        \n",
    "    print(f\"Correct! it took you {guesses} guesses to guess {secret_number}\")"
   ]
  },
  {
   "cell_type": "code",
   "execution_count": null,
   "metadata": {
    "id": "xOX2MQEHxA8C",
    "outputId": "a21479ac-a07f-4eb4-dbf9-b6b0d1bc69ed"
   },
   "outputs": [],
   "source": [
    "guess_secret_number()"
   ]
  },
  {
   "cell_type": "code",
   "execution_count": null,
   "metadata": {
    "id": "gzu5TqlkxA8C"
   },
   "outputs": [],
   "source": [
    "guess_secret_number()"
   ]
  },
  {
   "cell_type": "code",
   "execution_count": null,
   "metadata": {
    "id": "lJiHrkUmxA8D"
   },
   "outputs": [],
   "source": [
    "# second example from a previous class\n",
    "\n",
    "# baseball game simulation\n",
    "def play_baseball(innings, max_runs_per_inning,\n",
    "                 seventh_inning_stretch_length):\n",
    "    \n",
    "    import random\n",
    "    import time\n",
    "\n",
    "    # define score of two teams\n",
    "    home_team = 0\n",
    "    away_team = 0\n",
    "\n",
    "    # define the inning of the game\n",
    "    inning = 1\n",
    "\n",
    "    # while the game is in the 1st to the 9th inning\n",
    "    while inning <= innings:\n",
    "        print(f\"the game is entering inning {inning}\")\n",
    "        print(f\"the score is: home team {home_team}, away team {away_team}\")\n",
    "\n",
    "        # if the home team is winning\n",
    "        if home_team > away_team:\n",
    "            print(f\"the home team is winning by {home_team - away_team}\")\n",
    "\n",
    "        # if the away team is winning\n",
    "        elif home_team < away_team:\n",
    "            print(f\"the away team is winning by {away_team - home_team}\")\n",
    "\n",
    "        # if the teams are tied\n",
    "        else:\n",
    "            print(f\"the score is currently tied at {home_team}\")\n",
    "\n",
    "        away_team += random.randint(0,max_runs_per_inning)\n",
    "        home_team += random.randint(0,max_runs_per_inning)\n",
    "        inning += 1\n",
    "\n",
    "        # pause 3 seconds after each inning, pause 7 seconds for 7th inning stretch\n",
    "        if inning == 7:\n",
    "            print(\"SEVENTH INNING STETCH!\")\n",
    "            time.sleep(seventh_inning_stretch_length)\n",
    "        else:\n",
    "            time.sleep(3)\n",
    "            \n",
    "        print('='*10)\n",
    "\n",
    "    # print the final score\n",
    "    print(f\"final score: home team {home_team}, away team {away_team}\")"
   ]
  },
  {
   "cell_type": "code",
   "execution_count": null,
   "metadata": {
    "id": "ZoE0EtN_xA8D"
   },
   "outputs": [],
   "source": [
    "play_baseball(innings = 9,\n",
    "              max_runs_per_inning = 2,\n",
    "              seventh_inning_stretch_length = 8)"
   ]
  },
  {
   "cell_type": "code",
   "execution_count": null,
   "metadata": {
    "id": "0rCC0NALxA8D"
   },
   "outputs": [],
   "source": [
    "# local vs global variables\n",
    "\n",
    "# local variables are created and stored within a function\n",
    "def sum_list(a_list, start):\n",
    "    current_sum = start\n",
    "    for i in a_list:\n",
    "        current_sum += i\n",
    "        \n",
    "    print(current_sum)"
   ]
  },
  {
   "cell_type": "code",
   "execution_count": null,
   "metadata": {
    "id": "qJyhvMb6xA8E",
    "outputId": "66b52c4f-ef17-469f-dc2a-766f59ae6278"
   },
   "outputs": [],
   "source": [
    "sum_list([1,2,3],0)"
   ]
  },
  {
   "cell_type": "code",
   "execution_count": null,
   "metadata": {
    "id": "GGO3Nvw-xA8E"
   },
   "outputs": [],
   "source": [
    "# global varaibles are defined outside functions\n",
    "current_sum = 0\n",
    "\n",
    "def sum_list(a_list):\n",
    "    current_sum = 0\n",
    "    for i in a_list:\n",
    "        current_sum += i\n",
    "        \n",
    "    print(current_sum)"
   ]
  },
  {
   "cell_type": "code",
   "execution_count": null,
   "metadata": {
    "id": "Zyy9JrUkxA8E",
    "outputId": "c1cc22fd-207b-4632-8629-bfab7436f75e"
   },
   "outputs": [],
   "source": [
    "sum_list([1,2,3])"
   ]
  },
  {
   "cell_type": "code",
   "execution_count": null,
   "metadata": {
    "id": "78kyxkfnxA8F"
   },
   "outputs": [],
   "source": [
    "# best practice: global variables or local variables?\n",
    "\n",
    "# Local variables are best!"
   ]
  },
  {
   "cell_type": "code",
   "execution_count": null,
   "metadata": {
    "id": "pnn1Fra9xA8G"
   },
   "outputs": [],
   "source": [
    "# example of only local variables\n",
    "\n",
    "def print_word_reverse(word):\n",
    "    word = word[::-1]\n",
    "    print(word)"
   ]
  },
  {
   "cell_type": "code",
   "execution_count": null,
   "metadata": {
    "id": "E1USJc_UxA8G",
    "outputId": "0a3e2c2e-ebde-49d0-c4cc-14e717102007"
   },
   "outputs": [],
   "source": [
    "print_word_reverse(\"Data Science\")"
   ]
  },
  {
   "cell_type": "code",
   "execution_count": null,
   "metadata": {
    "id": "dgvKDvEsxA8H",
    "outputId": "ac613143-f406-400f-a9e7-2d050435a044"
   },
   "outputs": [],
   "source": [
    "word"
   ]
  },
  {
   "cell_type": "code",
   "execution_count": null,
   "metadata": {
    "id": "42Six0H9xA8H"
   },
   "outputs": [],
   "source": [
    "# same example but word is a global variable\n",
    "\n",
    "word = \"Global Variable\"\n",
    "\n",
    "def print_global_reverse():\n",
    "    global word\n",
    "    \n",
    "    word = word[::-1]\n",
    "    return word"
   ]
  },
  {
   "cell_type": "code",
   "execution_count": null,
   "metadata": {
    "id": "e487Sm9dxA8H",
    "outputId": "61443719-b0c0-46c3-a906-1e87cbbb1de5"
   },
   "outputs": [],
   "source": [
    "print_global_reverse()"
   ]
  },
  {
   "cell_type": "code",
   "execution_count": null,
   "metadata": {
    "id": "ZJPMWVDkxA8I",
    "outputId": "eb22975e-c6d5-4b5a-d662-54f7db9bbd45"
   },
   "outputs": [],
   "source": [
    "word"
   ]
  },
  {
   "cell_type": "code",
   "execution_count": null,
   "metadata": {
    "id": "5-UiDpU8xA8I"
   },
   "outputs": [],
   "source": [
    "# ^ is a function with \"side effects\"\n",
    "\n",
    "# when you have a function that changes nothing outside of the function it has \"no side effects\""
   ]
  },
  {
   "cell_type": "code",
   "execution_count": null,
   "metadata": {
    "id": "QRrsAoEIxA8I"
   },
   "outputs": [],
   "source": [
    "# function with a default argument\n",
    "\n",
    "def double_number(x = 5):\n",
    "    x *= 2\n",
    "    return x"
   ]
  },
  {
   "cell_type": "code",
   "execution_count": null,
   "metadata": {
    "id": "VAirgk_bxA8J",
    "outputId": "8c5f4fe7-4f5f-49a8-d2e3-41c0f2689a95"
   },
   "outputs": [],
   "source": [
    "double_number()"
   ]
  },
  {
   "cell_type": "code",
   "execution_count": null,
   "metadata": {
    "id": "4mPJgCL8xA8J",
    "outputId": "cc00dace-4421-403b-c62d-3fb89bd30f03"
   },
   "outputs": [],
   "source": [
    "double_number(x = 20)"
   ]
  },
  {
   "cell_type": "code",
   "execution_count": null,
   "metadata": {
    "id": "qmuZznQnxA8K"
   },
   "outputs": [],
   "source": [
    "# function with two default arguments\n",
    "\n",
    "def find_absolute_difference(i = 100, j = 150):\n",
    "    abs_difference = abs(i - j)\n",
    "    print(abs_difference)"
   ]
  },
  {
   "cell_type": "code",
   "execution_count": null,
   "metadata": {
    "id": "x_YBxUOGxA8K",
    "outputId": "ab3d559d-5ec0-41ae-ff80-173c33486d97"
   },
   "outputs": [],
   "source": [
    "find_absolute_difference()"
   ]
  },
  {
   "cell_type": "code",
   "execution_count": null,
   "metadata": {
    "id": "x4fmv73GxA8K",
    "outputId": "c889f57b-75b1-473b-a1e0-fc09b1b0fbd2"
   },
   "outputs": [],
   "source": [
    "find_absolute_difference(i = 10, j = 90)"
   ]
  },
  {
   "cell_type": "code",
   "execution_count": null,
   "metadata": {
    "id": "Gt8bgGUbxA8K"
   },
   "outputs": [],
   "source": [
    "# function with one default and one non-default argument\n",
    "\n",
    "def concat_words(word_1, word_2 = \" friend\"):\n",
    "    return word_1 + word_2"
   ]
  },
  {
   "cell_type": "code",
   "execution_count": null,
   "metadata": {
    "id": "mOPIQrhcxA8K"
   },
   "outputs": [],
   "source": [
    "concat_results = concat_words(word_1 = \"hello\")"
   ]
  },
  {
   "cell_type": "code",
   "execution_count": null,
   "metadata": {
    "id": "UzlvKmI9xA8L",
    "outputId": "4a27ed80-a4a4-4d34-8acf-0482520f3d43"
   },
   "outputs": [],
   "source": [
    "concat_results"
   ]
  },
  {
   "cell_type": "code",
   "execution_count": null,
   "metadata": {
    "id": "0W52lTonxA8L"
   },
   "outputs": [],
   "source": [
    "concat_results_2 = concat_words(word_1 = \"hello\",\n",
    "                               word_2 = \" neighbor\")"
   ]
  },
  {
   "cell_type": "code",
   "execution_count": null,
   "metadata": {
    "id": "_eP743GJxA8L",
    "outputId": "cae6c376-a8a2-4949-e0fd-1ef36f3c9912"
   },
   "outputs": [],
   "source": [
    "concat_results_2"
   ]
  },
  {
   "cell_type": "code",
   "execution_count": null,
   "metadata": {
    "id": "-CddKcdOxA8L"
   },
   "outputs": [],
   "source": [
    "# functions within functions\n",
    "\n",
    "# first, run a function inside another function\n",
    "\n",
    "def roll_die():\n",
    "    import random\n",
    "    return random.randint(1, 6)\n",
    "\n",
    "def play_zahtzee():\n",
    "    rolls = []\n",
    "    \n",
    "    for die in range(5):\n",
    "        die_score = roll_die()\n",
    "        rolls.append(die_score)\n",
    "        \n",
    "    if len(set(rolls)) == 1:\n",
    "        print(\"YAHTZEE!\")\n",
    "        print(rolls)\n",
    "        \n",
    "    elif len(set(rolls)) == 2:\n",
    "        print(\"GREAT roll!\")\n",
    "        print(rolls)\n",
    "        \n",
    "    elif len(set(rolls)) == 3:\n",
    "        print(\"Nice roll!\")\n",
    "        print(rolls)\n",
    "        \n",
    "    else:\n",
    "        print(rolls)"
   ]
  },
  {
   "cell_type": "code",
   "execution_count": null,
   "metadata": {
    "id": "wZSgZ4ZHxA8L",
    "outputId": "d8e287d1-012c-4b53-d7e1-2e8bacf92b9b"
   },
   "outputs": [],
   "source": [
    "play_zahtzee()"
   ]
  },
  {
   "cell_type": "code",
   "execution_count": null,
   "metadata": {
    "id": "ZVkQ3prixA8L"
   },
   "outputs": [],
   "source": [
    "# now, define a function inside another function\n",
    "\n",
    "def play_zahtzee():\n",
    "    \n",
    "    def roll_die2():\n",
    "        import random\n",
    "        return random.randint(1, 6)\n",
    "    \n",
    "    rolls = []\n",
    "    \n",
    "    for die in range(5):\n",
    "        die_score = roll_die()\n",
    "        rolls.append(die_score)\n",
    "        \n",
    "    if len(set(rolls)) == 1:\n",
    "        print(\"YAHTZEE!\")\n",
    "        print(rolls)\n",
    "        \n",
    "    elif len(set(rolls)) == 2:\n",
    "        print(\"GREAT roll!\")\n",
    "        print(rolls)\n",
    "        \n",
    "    elif len(set(rolls)) == 3:\n",
    "        print(\"Nice roll!\")\n",
    "        print(rolls)\n",
    "        \n",
    "    else:\n",
    "        print(rolls)"
   ]
  },
  {
   "cell_type": "code",
   "execution_count": null,
   "metadata": {
    "id": "od3IGXiOxA8L",
    "outputId": "7e4db958-ed65-4c24-be7a-f9a06567ab4e"
   },
   "outputs": [],
   "source": [
    "play_zahtzee()"
   ]
  },
  {
   "cell_type": "code",
   "execution_count": null,
   "metadata": {
    "id": "WRUsIaWQxA8M"
   },
   "outputs": [],
   "source": [
    "# if you don't know how many arguments the user will pass, then use \"varargs\"\n",
    "# \"varagrs\" are denoted with a *\n",
    "\n",
    "def count_characters(*words):\n",
    "    \n",
    "    total_chars = 0\n",
    "    \n",
    "    for w in words:\n",
    "        total_chars += len(w)\n",
    "        \n",
    "    return total_chars"
   ]
  },
  {
   "cell_type": "code",
   "execution_count": null,
   "metadata": {
    "id": "mNDth3DExA8M",
    "outputId": "a82f10db-3bf8-4bed-9dad-6296799ff4cd"
   },
   "outputs": [],
   "source": [
    "count_characters(\"hello\", \"goodbye\", \"friend\")"
   ]
  },
  {
   "cell_type": "code",
   "execution_count": null,
   "metadata": {
    "id": "0rRGf8LYxA8M",
    "outputId": "795226bb-12da-41d9-cde2-2298cc87e5bb"
   },
   "outputs": [],
   "source": [
    "count_characters(\"testing\")"
   ]
  },
  {
   "cell_type": "code",
   "execution_count": null,
   "metadata": {
    "id": "daMKABJlxA8M"
   },
   "outputs": [],
   "source": [
    "# Higher-Order functions\n",
    "\n",
    "# functions that accept other functions as arguments\n",
    "\n",
    "def call_it_twice(function, *args):\n",
    "    function(*args)\n",
    "    function(*args)"
   ]
  },
  {
   "cell_type": "code",
   "execution_count": null,
   "metadata": {
    "id": "RrC026vZxA8M",
    "outputId": "252ea0b5-f8f5-497c-ee4a-e3ef2cdd75b4"
   },
   "outputs": [],
   "source": [
    "call_it_twice(print, \"Hello\", \"Bye!\")"
   ]
  },
  {
   "cell_type": "code",
   "execution_count": null,
   "metadata": {
    "id": "21UF0GI9xA8M",
    "outputId": "cbe93f4a-124f-48ba-d7db-24fee383c30b"
   },
   "outputs": [],
   "source": [
    "triple(x = 5)"
   ]
  },
  {
   "cell_type": "code",
   "execution_count": null,
   "metadata": {
    "id": "GFJjbatdxA8M",
    "outputId": "06940490-2dc4-4b88-c6c0-df847cda260f"
   },
   "outputs": [],
   "source": [
    "print(call_it_twice(triple, 5))"
   ]
  },
  {
   "cell_type": "code",
   "execution_count": null,
   "metadata": {
    "id": "FOp3sPntxA8M"
   },
   "outputs": [],
   "source": [
    "def triple(*args):\n",
    "    print(args*3)"
   ]
  },
  {
   "cell_type": "code",
   "execution_count": null,
   "metadata": {
    "id": "vxbiVxixxA8M",
    "outputId": "89202ae8-a8da-479f-b069-adce81511168"
   },
   "outputs": [],
   "source": [
    "call_it_twice(triple, 5, 20, 100)"
   ]
  },
  {
   "cell_type": "code",
   "execution_count": null,
   "metadata": {
    "id": "Kfqq9TtZxA8M"
   },
   "outputs": [],
   "source": [
    "# lambda functions\n",
    "# also called anonymous functions or nameless functions\n",
    "\n",
    "def add_one(x):\n",
    "    return x + 1"
   ]
  },
  {
   "cell_type": "code",
   "execution_count": null,
   "metadata": {
    "id": "QjuP3ymRxA8N",
    "outputId": "dc7cec44-3062-414d-938a-8f93318ee37f"
   },
   "outputs": [],
   "source": [
    "lambda x: x +1"
   ]
  },
  {
   "cell_type": "code",
   "execution_count": null,
   "metadata": {
    "id": "JpNF_klxxA8N",
    "outputId": "9cac37fa-83ab-45bd-b9c7-ac63eb496cf5"
   },
   "outputs": [],
   "source": [
    "(lambda x: x +1)(5)"
   ]
  },
  {
   "cell_type": "code",
   "execution_count": null,
   "metadata": {
    "id": "_hUBQPpMxA8N"
   },
   "outputs": [],
   "source": [
    "# Type Hints\n",
    "\n",
    "# show the user expected data types\n",
    "\n",
    "def add_two(x: int) -> int:\n",
    "    return x + 2"
   ]
  },
  {
   "cell_type": "code",
   "execution_count": null,
   "metadata": {
    "id": "UvGz-o1lxA8N",
    "outputId": "c7d82d75-24ee-4c1f-cb7e-5a87bf5d1425"
   },
   "outputs": [],
   "source": [
    "add_two(5)"
   ]
  },
  {
   "cell_type": "code",
   "execution_count": null,
   "metadata": {
    "id": "41rKrF0mxA8N"
   },
   "outputs": [],
   "source": [
    "def describe_number(y: int) -> str:\n",
    "    if y % 2 == 0:\n",
    "        return \"y is an even number.\""
   ]
  },
  {
   "cell_type": "code",
   "execution_count": null,
   "metadata": {
    "id": "VWxucc4fxA8N",
    "outputId": "fd43627a-3d5c-4b14-edfa-10818e59e7d3"
   },
   "outputs": [],
   "source": [
    "describe_number(y = 2)"
   ]
  },
  {
   "cell_type": "markdown",
   "metadata": {
    "id": "BIwn_ecKxA8N"
   },
   "source": [
    "# The Python Standard Library"
   ]
  },
  {
   "cell_type": "code",
   "execution_count": null,
   "metadata": {
    "id": "Gen-HT14xA8N",
    "outputId": "200f4efa-f5fc-4cfb-b312-bf42e54fec69"
   },
   "outputs": [],
   "source": [
    "# look at webbrowser\n",
    "\n",
    "import webbrowser\n",
    "\n",
    "webbrowser.open_new_tab('https://www.python.org/')"
   ]
  },
  {
   "cell_type": "code",
   "execution_count": null,
   "metadata": {
    "id": "vhC8qYq9xA8O"
   },
   "outputs": [],
   "source": [
    "# find a song you like on youtube, copy the url\n",
    "# for my example: https://www.youtube.com/watch?v=4v8KEbQA8kw\n",
    "\n",
    "def play_the_eagles():\n",
    "    webbrowser.open('https://www.youtube.com/watch?v=4v8KEbQA8kw')"
   ]
  },
  {
   "cell_type": "code",
   "execution_count": null,
   "metadata": {
    "id": "9sQDeZIBxA8O"
   },
   "outputs": [],
   "source": [
    "play_the_eagles()"
   ]
  },
  {
   "cell_type": "code",
   "execution_count": null,
   "metadata": {
    "id": "CP3cDkXRxA8O",
    "outputId": "da7b1476-88f6-4119-f89c-0a2e1c9e9912"
   },
   "outputs": [],
   "source": [
    "# datetime package\n",
    "\n",
    "import datetime\n",
    "\n",
    "datetime.datetime.now()"
   ]
  },
  {
   "cell_type": "code",
   "execution_count": null,
   "metadata": {
    "id": "Z9xKwHV6xA8O",
    "outputId": "3c9574ce-9226-4960-f881-f7e953c425f9"
   },
   "outputs": [],
   "source": [
    "datetime.date.today()"
   ]
  },
  {
   "cell_type": "code",
   "execution_count": null,
   "metadata": {
    "id": "nOXyXYaOxA8O",
    "outputId": "c04b3d55-fc4f-438a-eebc-e655188b2410"
   },
   "outputs": [],
   "source": [
    "from datetime import date\n",
    "\n",
    "date.today()"
   ]
  },
  {
   "cell_type": "code",
   "execution_count": null,
   "metadata": {
    "id": "SNHa78JqxA8O"
   },
   "outputs": [],
   "source": [
    "from datetime import date\n",
    "\n",
    "def days_until_holidays():\n",
    "    \n",
    "    today = date.today()\n",
    "    \n",
    "    holidays = {\"halloween\" : date(2021, 10, 31),\n",
    "               \"memorial_day\" : date(2022, 5, 30),\n",
    "               \"mlk_day\" : date(2022, 1, 17)}\n",
    "    \n",
    "    print(\"Which holiday are you searching for?\")\n",
    "    for h in holidays:\n",
    "        print(h)\n",
    "    print('=' * 5)\n",
    "    \n",
    "    holiday_input = input()\n",
    "    \n",
    "    if holiday_input in holidays:\n",
    "        days_to_holiday = holidays[holiday_input] - today\n",
    "        \n",
    "    print(f\"only {days_to_holiday} until {holiday_input}\")"
   ]
  },
  {
   "cell_type": "code",
   "execution_count": null,
   "metadata": {
    "id": "uH6oXfxLxA8O",
    "outputId": "230104d2-f0e1-4188-89ed-745e6e9589b9"
   },
   "outputs": [],
   "source": [
    "days_until_holidays()"
   ]
  },
  {
   "cell_type": "code",
   "execution_count": null,
   "metadata": {
    "id": "M3R7XyORxA8O"
   },
   "outputs": [],
   "source": [
    "from datetime import datetime\n",
    "\n",
    "now = datetime.now()"
   ]
  },
  {
   "cell_type": "code",
   "execution_count": null,
   "metadata": {
    "id": "9v144thgxA8P",
    "outputId": "9a3eeb33-e460-4117-aa20-45061d2baa9c"
   },
   "outputs": [],
   "source": [
    "now"
   ]
  },
  {
   "cell_type": "code",
   "execution_count": null,
   "metadata": {
    "id": "lCSnurbFxA8P",
    "outputId": "f7a55971-358c-4bd9-d997-7565b2b6dad7"
   },
   "outputs": [],
   "source": [
    "# format datetime as a string with strftime()\n",
    "\n",
    "now.strftime('%Y%m%d')"
   ]
  },
  {
   "cell_type": "code",
   "execution_count": null,
   "metadata": {
    "id": "ohy09FLmxA8P",
    "outputId": "95e3832e-0b11-4b2f-dd40-e630374e6b63"
   },
   "outputs": [],
   "source": [
    "now.strftime('%Y/%m/%d')"
   ]
  },
  {
   "cell_type": "code",
   "execution_count": null,
   "metadata": {
    "id": "DzvJK3SDxA8P",
    "outputId": "8073fc22-5afc-4338-99f5-a62460b93033"
   },
   "outputs": [],
   "source": [
    "now.strftime('%m/%d/%Y')"
   ]
  },
  {
   "cell_type": "code",
   "execution_count": null,
   "metadata": {
    "id": "NmmNJ3SCxA8P",
    "outputId": "453da4aa-a0aa-4ec5-ae4d-31f680792de7"
   },
   "outputs": [],
   "source": [
    "now.strftime('%H:%M')"
   ]
  },
  {
   "cell_type": "code",
   "execution_count": null,
   "metadata": {
    "id": "aqiQS-HQxA8P"
   },
   "outputs": [],
   "source": [
    "file_path = '/filepath/class_files/DS_542_'\n",
    "file_type = '.ipynb'\n",
    "\n",
    "file_name = file_path + datetime.now().strftime('%Y_%m_%d') + file_type"
   ]
  },
  {
   "cell_type": "code",
   "execution_count": null,
   "metadata": {
    "id": "vfsXtfBtxA8P",
    "outputId": "2c7988e0-b5a8-49b4-b54a-6aefdda0b0df"
   },
   "outputs": [],
   "source": [
    "file_name"
   ]
  },
  {
   "cell_type": "code",
   "execution_count": null,
   "metadata": {
    "id": "8NK47UwGxA8P"
   },
   "outputs": [],
   "source": [
    "# time built-in package\n",
    "\n",
    "def count_to_large_number(x:int):\n",
    "    \n",
    "    import time\n",
    "    start = time.time()\n",
    "    \n",
    "    counter = 0\n",
    "    \n",
    "    for i in range(x):\n",
    "        counter += 1\n",
    "        \n",
    "    end = time.time()\n",
    "    \n",
    "    print(counter)\n",
    "    print(f\"function duraction was {end - start} seconds\")"
   ]
  },
  {
   "cell_type": "code",
   "execution_count": null,
   "metadata": {
    "id": "5L-Ck70RxA8Q",
    "outputId": "0e7ab943-3f33-4f46-fe64-43272bf0a8cd"
   },
   "outputs": [],
   "source": [
    "count_to_large_number(x = 10000000)"
   ]
  },
  {
   "cell_type": "code",
   "execution_count": null,
   "metadata": {
    "id": "4cKQ3OVgxA8Q",
    "outputId": "971e1899-8e1c-4766-ce37-0dabb1e12918"
   },
   "outputs": [],
   "source": [
    "count_to_large_number(x = 100000000)"
   ]
  },
  {
   "cell_type": "code",
   "execution_count": null,
   "metadata": {
    "id": "jzGgP6gdxA8Q",
    "outputId": "2897787b-5c8e-40c8-bf00-a65f55a8e7de"
   },
   "outputs": [],
   "source": [
    "import time\n",
    "\n",
    "print(\"Hello\")\n",
    "\n",
    "time.sleep(5)\n",
    "\n",
    "print(\"Are you there?\")"
   ]
  },
  {
   "cell_type": "code",
   "execution_count": null,
   "metadata": {
    "id": "TVko0CfZxA8Q"
   },
   "outputs": [],
   "source": [
    "# python third-party packages"
   ]
  },
  {
   "cell_type": "code",
   "execution_count": null,
   "metadata": {
    "id": "dbOLe7hTxA8Q",
    "outputId": "43b3b691-a08c-43b6-9119-4a2028f4a22d"
   },
   "outputs": [],
   "source": [
    "!pip install randfacts"
   ]
  },
  {
   "cell_type": "code",
   "execution_count": null,
   "metadata": {
    "id": "WARny5DExA8Q",
    "outputId": "6fcbd284-28bc-4406-d461-38541b2971a6"
   },
   "outputs": [],
   "source": [
    "import randfacts\n",
    "\n",
    "print(randfacts.get_fact())"
   ]
  },
  {
   "cell_type": "code",
   "execution_count": null,
   "metadata": {
    "id": "stGekkTOxA8Q"
   },
   "outputs": [],
   "source": [
    "def print_rand_facts(number_of_facts = 3,\n",
    "                    sleep_time = 4):\n",
    "    \n",
    "    import randfacts\n",
    "    import time\n",
    "    \n",
    "    for i in range(number_of_facts):\n",
    "        print(randfacts.get_fact())\n",
    "        time.sleep(sleep_time)\n",
    "        \n",
    "    print(\"Ok, that is enough randomness.\")"
   ]
  },
  {
   "cell_type": "code",
   "execution_count": null,
   "metadata": {
    "id": "BRZyBFODxA8Q",
    "outputId": "bd239c36-12e0-4cfe-801f-0fd4711f6649"
   },
   "outputs": [],
   "source": [
    "# wikipedia package\n",
    "print_rand_facts()"
   ]
  },
  {
   "cell_type": "code",
   "execution_count": null,
   "metadata": {
    "id": "8y-x2BrGxA8Q",
    "outputId": "b1259bc7-1e75-4aee-aa66-9e9e8e3f4e89"
   },
   "outputs": [],
   "source": [
    "!pip install wikipedia"
   ]
  },
  {
   "cell_type": "code",
   "execution_count": null,
   "metadata": {
    "id": "5AX250N5xA8R",
    "outputId": "3100e771-5f01-4187-a8e9-9a41610af552"
   },
   "outputs": [],
   "source": [
    "import wikipedia\n",
    "\n",
    "print(wikipedia.summary(\"Canada\", sentences = 2))"
   ]
  },
  {
   "cell_type": "code",
   "execution_count": null,
   "metadata": {
    "id": "j-C9kTFCxA8R"
   },
   "outputs": [],
   "source": [
    "wikipedia.search(\"Barack\")"
   ]
  },
  {
   "cell_type": "code",
   "execution_count": null,
   "metadata": {
    "id": "eoXhizOKxA8R"
   },
   "outputs": [],
   "source": [
    "wikipedia.summary(\"Barack Obama\", sentences = 1)"
   ]
  },
  {
   "cell_type": "code",
   "execution_count": null,
   "metadata": {
    "id": "h7bEM1N6xA8R"
   },
   "outputs": [],
   "source": [
    "# scipy package"
   ]
  },
  {
   "cell_type": "code",
   "execution_count": null,
   "metadata": {
    "id": "4Xxoin8wxA8R",
    "outputId": "27d5598c-9685-49de-c210-9ba219bf3fa0"
   },
   "outputs": [],
   "source": [
    "!pip install scipy"
   ]
  },
  {
   "cell_type": "code",
   "execution_count": null,
   "metadata": {
    "id": "LizkoJ69xA8R",
    "outputId": "097ad931-588d-4a49-c159-623c67ff35e9"
   },
   "outputs": [],
   "source": [
    "from scipy import special\n",
    "\n",
    "# use cube root function\n",
    "special.cbrt(27)"
   ]
  },
  {
   "cell_type": "code",
   "execution_count": null,
   "metadata": {
    "id": "D58HNdYZxA8R"
   },
   "outputs": [],
   "source": [
    "def get_cube_root(x:int) -> int:\n",
    "    from scipy import special\n",
    "    return special.cbrt(x)"
   ]
  },
  {
   "cell_type": "code",
   "execution_count": null,
   "metadata": {
    "id": "DlMucVqLxA8R",
    "outputId": "04f0dc65-209f-4f75-e9d0-4d711e4d55c4"
   },
   "outputs": [],
   "source": [
    "get_cube_root(64)"
   ]
  },
  {
   "cell_type": "code",
   "execution_count": null,
   "metadata": {
    "id": "oWws62f9xA8S"
   },
   "outputs": [],
   "source": []
  }
 ],
 "metadata": {
  "colab": {
   "provenance": []
  },
  "kernelspec": {
   "display_name": "Python 3 (ipykernel)",
   "language": "python",
   "name": "python3"
  },
  "language_info": {
   "codemirror_mode": {
    "name": "ipython",
    "version": 3
   },
   "file_extension": ".py",
   "mimetype": "text/x-python",
   "name": "python",
   "nbconvert_exporter": "python",
   "pygments_lexer": "ipython3",
   "version": "3.9.13"
  }
 },
 "nbformat": 4,
 "nbformat_minor": 1
}
