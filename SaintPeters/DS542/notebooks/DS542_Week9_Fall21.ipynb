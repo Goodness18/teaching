{
 "cells": [
  {
   "cell_type": "markdown",
   "metadata": {},
   "source": [
    "# OOP Example from Last Week\n",
    "---"
   ]
  },
  {
   "cell_type": "code",
   "execution_count": null,
   "metadata": {},
   "outputs": [],
   "source": []
  },
  {
   "cell_type": "code",
   "execution_count": 2,
   "metadata": {},
   "outputs": [
    {
     "name": "stdout",
     "output_type": "stream",
     "text": [
      "Currently reading Automate the Boring Stuff with Python,\n",
      "                  am on page 256 out of 547,\n",
      "                  started reading this book on 06/27/2023\n"
     ]
    }
   ],
   "source": [
    "# OOP\n",
    "# making classes in python, so we can make objects with attributes and methods\n",
    "\n",
    "# we will make a new class named Textbook\n",
    "class Textbook:\n",
    "    def __init__(self, name: str, pages: int, subject: str):\n",
    "        # this will create a new Textbook object\n",
    "        self.name = name\n",
    "        self.pages = pages\n",
    "        self.subject = subject\n",
    "        self.finished_reading = False\n",
    "        self.current_page = 1\n",
    "        \n",
    "        from datetime import date\n",
    "        self.start_date = date.today().strftime(\"%m/%d/%Y\")\n",
    "        self.finished_date = None\n",
    "        \n",
    "    def bookmark(self, bookmark_page):\n",
    "        self.current_page = bookmark_page\n",
    "        \n",
    "    def finish_reading(self):\n",
    "        from datetime import date\n",
    "        self.finished_reading = True\n",
    "        self.finished_date = date.today().strftime(\"%m/%d/%Y\")\n",
    "        \n",
    "    def print_reading_status(self):\n",
    "        if self.finished_reading == False:\n",
    "            print(f\"\"\"Currently reading {self.name},\n",
    "                  am on page {self.current_page} out of {self.pages},\n",
    "                  started reading this book on {self.start_date}\"\"\")\n",
    "            \n",
    "        elif self.finished_reading == True:\n",
    "            print(f\"\"\"Finished reading {self.name},\n",
    "                  it was {self.pages} pages,\n",
    "                  starting reading on {self.start_date},\n",
    "                  and finished reading on {self.finished_date}\"\"\")\n",
    "            \n",
    "# create a Textbook object\n",
    "ds542_textbook = Textbook(name = \"Automate the Boring Stuff with Python\",\n",
    "                          pages = 547,\n",
    "                          subject = \"python\")\n",
    "\n",
    "ds542_textbook.bookmark(bookmark_page = 256)\n",
    "\n",
    "ds542_textbook.print_reading_status()"
   ]
  },
  {
   "cell_type": "code",
   "execution_count": 3,
   "metadata": {},
   "outputs": [
    {
     "name": "stdout",
     "output_type": "stream",
     "text": [
      "Currently reading Python for dummies,\n",
      "                  am on page 1 out of 1000,\n",
      "                  started reading this book on 06/27/2023\n"
     ]
    }
   ],
   "source": [
    "t = Textbook(name=\"Python for dummies\", pages=1000, subject=\"computer programming\")\n",
    "\n",
    "t.print_reading_status()"
   ]
  },
  {
   "cell_type": "markdown",
   "metadata": {},
   "source": [
    "# Assertions\n",
    "---"
   ]
  },
  {
   "cell_type": "code",
   "execution_count": 1,
   "metadata": {},
   "outputs": [],
   "source": [
    "def generate_random_integer(lower_bound: int, upper_bound: int):\n",
    "    \n",
    "    import random\n",
    "    \n",
    "    # generate a random integer\n",
    "    random_integer = random.randint(lower_bound, upper_bound)\n",
    "    \n",
    "    return random_integer"
   ]
  },
  {
   "cell_type": "code",
   "execution_count": 2,
   "metadata": {},
   "outputs": [],
   "source": [
    "test_number = generate_random_integer(5, 25)"
   ]
  },
  {
   "cell_type": "code",
   "execution_count": 3,
   "metadata": {},
   "outputs": [],
   "source": [
    "assert type(test_number) == int "
   ]
  },
  {
   "cell_type": "code",
   "execution_count": 4,
   "metadata": {},
   "outputs": [],
   "source": [
    "assert test_number >= 5 and test_number <= 25"
   ]
  },
  {
   "cell_type": "code",
   "execution_count": 5,
   "metadata": {},
   "outputs": [],
   "source": [
    "test_number = 100"
   ]
  },
  {
   "cell_type": "code",
   "execution_count": 6,
   "metadata": {},
   "outputs": [
    {
     "ename": "AssertionError",
     "evalue": "",
     "output_type": "error",
     "traceback": [
      "\u001b[1;31m---------------------------------------------------------------------------\u001b[0m",
      "\u001b[1;31mAssertionError\u001b[0m                            Traceback (most recent call last)",
      "\u001b[1;32m<ipython-input-6-cab0f0e3ab68>\u001b[0m in \u001b[0;36m<module>\u001b[1;34m\u001b[0m\n\u001b[1;32m----> 1\u001b[1;33m \u001b[1;32massert\u001b[0m \u001b[0mtest_number\u001b[0m \u001b[1;33m>=\u001b[0m \u001b[1;36m5\u001b[0m \u001b[1;32mand\u001b[0m \u001b[0mtest_number\u001b[0m \u001b[1;33m<=\u001b[0m \u001b[1;36m25\u001b[0m\u001b[1;33m\u001b[0m\u001b[1;33m\u001b[0m\u001b[0m\n\u001b[0m",
      "\u001b[1;31mAssertionError\u001b[0m: "
     ]
    }
   ],
   "source": [
    "assert test_number >= 5 and test_number <= 25"
   ]
  },
  {
   "cell_type": "code",
   "execution_count": 7,
   "metadata": {},
   "outputs": [
    {
     "ename": "AssertionError",
     "evalue": "test_number not in range",
     "output_type": "error",
     "traceback": [
      "\u001b[1;31m---------------------------------------------------------------------------\u001b[0m",
      "\u001b[1;31mAssertionError\u001b[0m                            Traceback (most recent call last)",
      "\u001b[1;32m<ipython-input-7-c4a75427dc43>\u001b[0m in \u001b[0;36m<module>\u001b[1;34m\u001b[0m\n\u001b[1;32m----> 1\u001b[1;33m \u001b[1;32massert\u001b[0m \u001b[0mtest_number\u001b[0m \u001b[1;33m>=\u001b[0m \u001b[1;36m5\u001b[0m \u001b[1;32mand\u001b[0m \u001b[0mtest_number\u001b[0m \u001b[1;33m<=\u001b[0m \u001b[1;36m25\u001b[0m\u001b[1;33m,\u001b[0m \u001b[1;34m\"test_number not in range\"\u001b[0m\u001b[1;33m\u001b[0m\u001b[1;33m\u001b[0m\u001b[0m\n\u001b[0m",
      "\u001b[1;31mAssertionError\u001b[0m: test_number not in range"
     ]
    }
   ],
   "source": [
    "assert test_number >= 5 and test_number <= 25, \"test_number not in range\""
   ]
  },
  {
   "cell_type": "markdown",
   "metadata": {},
   "source": [
    "### second assert example\n",
    "---"
   ]
  },
  {
   "cell_type": "code",
   "execution_count": 10,
   "metadata": {},
   "outputs": [],
   "source": [
    "def guess_secret_integer(lower_bound: int, upper_bound: int):\n",
    "    \n",
    "    # define secret number\n",
    "    secret_number = generate_random_integer(lower_bound, upper_bound)\n",
    "    \n",
    "    # prompt the user for a guess\n",
    "    user_guess = int(input(f\"guess an integer between {lower_bound} and {upper_bound} \"))\n",
    "    \n",
    "    # run a few assert statements\n",
    "    assert type(secret_number) == int, \"secret number is not an integer\"\n",
    "    assert type(user_guess) == int, \"user_guess is not an integer\"\n",
    "    assert secret_number >= lower_bound and secret_number <= upper_bound, \"secret_number not in range\"\n",
    "    assert user_guess >= lower_bound and user_guess <= upper_bound, \"user_guess not in range\"\n",
    "    \n",
    "    # check if the guess matches the secret number\n",
    "    if secret_number == user_guess:\n",
    "        return True\n",
    "    \n",
    "    elif secret_number != user_guess:\n",
    "        print(f\"secret number was {secret_number}\")\n",
    "        return False"
   ]
  },
  {
   "cell_type": "code",
   "execution_count": 11,
   "metadata": {},
   "outputs": [
    {
     "name": "stdout",
     "output_type": "stream",
     "text": [
      "guess an integer between 1 and 5 2\n",
      "secret number was 5\n"
     ]
    },
    {
     "data": {
      "text/plain": [
       "False"
      ]
     },
     "execution_count": 11,
     "metadata": {},
     "output_type": "execute_result"
    }
   ],
   "source": [
    "guess_secret_integer(lower_bound = 1, upper_bound = 5)"
   ]
  },
  {
   "cell_type": "markdown",
   "metadata": {},
   "source": [
    "### third example of assertion\n",
    "---"
   ]
  },
  {
   "cell_type": "code",
   "execution_count": 12,
   "metadata": {},
   "outputs": [],
   "source": [
    "def print_name_backwards(name: str):\n",
    "    # make sure the name contains only characters in the alphabet\n",
    "    assert name.isalpha() == True, f\"{name} contains characters not in the alphabet\"\n",
    "    \n",
    "    # print the name backwards\n",
    "    print(name[::-1])"
   ]
  },
  {
   "cell_type": "code",
   "execution_count": 13,
   "metadata": {},
   "outputs": [
    {
     "name": "stdout",
     "output_type": "stream",
     "text": [
      "leahciM\n"
     ]
    }
   ],
   "source": [
    "print_name_backwards(name = \"Michael\")"
   ]
  },
  {
   "cell_type": "code",
   "execution_count": 14,
   "metadata": {},
   "outputs": [
    {
     "ename": "AssertionError",
     "evalue": "Michael3000 contains characters not in the alphabet",
     "output_type": "error",
     "traceback": [
      "\u001b[1;31m---------------------------------------------------------------------------\u001b[0m",
      "\u001b[1;31mAssertionError\u001b[0m                            Traceback (most recent call last)",
      "\u001b[1;32m<ipython-input-14-3ee2edd5d94e>\u001b[0m in \u001b[0;36m<module>\u001b[1;34m\u001b[0m\n\u001b[1;32m----> 1\u001b[1;33m \u001b[0mprint_name_backwards\u001b[0m\u001b[1;33m(\u001b[0m\u001b[0mname\u001b[0m \u001b[1;33m=\u001b[0m \u001b[1;34m\"Michael3000\"\u001b[0m\u001b[1;33m)\u001b[0m\u001b[1;33m\u001b[0m\u001b[1;33m\u001b[0m\u001b[0m\n\u001b[0m",
      "\u001b[1;32m<ipython-input-12-8e8d43383a18>\u001b[0m in \u001b[0;36mprint_name_backwards\u001b[1;34m(name)\u001b[0m\n\u001b[0;32m      1\u001b[0m \u001b[1;32mdef\u001b[0m \u001b[0mprint_name_backwards\u001b[0m\u001b[1;33m(\u001b[0m\u001b[0mname\u001b[0m\u001b[1;33m:\u001b[0m \u001b[0mstr\u001b[0m\u001b[1;33m)\u001b[0m\u001b[1;33m:\u001b[0m\u001b[1;33m\u001b[0m\u001b[1;33m\u001b[0m\u001b[0m\n\u001b[0;32m      2\u001b[0m     \u001b[1;31m# make sure the name contains only characters in the alphabet\u001b[0m\u001b[1;33m\u001b[0m\u001b[1;33m\u001b[0m\u001b[1;33m\u001b[0m\u001b[0m\n\u001b[1;32m----> 3\u001b[1;33m     \u001b[1;32massert\u001b[0m \u001b[0mname\u001b[0m\u001b[1;33m.\u001b[0m\u001b[0misalpha\u001b[0m\u001b[1;33m(\u001b[0m\u001b[1;33m)\u001b[0m \u001b[1;33m==\u001b[0m \u001b[1;32mTrue\u001b[0m\u001b[1;33m,\u001b[0m \u001b[1;34mf\"{name} contains characters not in the alphabet\"\u001b[0m\u001b[1;33m\u001b[0m\u001b[1;33m\u001b[0m\u001b[0m\n\u001b[0m\u001b[0;32m      4\u001b[0m \u001b[1;33m\u001b[0m\u001b[0m\n\u001b[0;32m      5\u001b[0m     \u001b[1;31m# print the name backwards\u001b[0m\u001b[1;33m\u001b[0m\u001b[1;33m\u001b[0m\u001b[1;33m\u001b[0m\u001b[0m\n",
      "\u001b[1;31mAssertionError\u001b[0m: Michael3000 contains characters not in the alphabet"
     ]
    }
   ],
   "source": [
    "print_name_backwards(name = \"Michael3000\")"
   ]
  },
  {
   "cell_type": "markdown",
   "metadata": {},
   "source": [
    "# Exceptions\n",
    "---"
   ]
  },
  {
   "cell_type": "code",
   "execution_count": 22,
   "metadata": {},
   "outputs": [],
   "source": [
    "# make a function that divides anything by 10\n",
    "def divide_by_ten(x):\n",
    "    \n",
    "    try:\n",
    "        print(x / 10)\n",
    "        \n",
    "    except:\n",
    "        print(f\"you cannot divide {x} by 10\")\n",
    "        \n",
    "    else:\n",
    "        print(f\"we successfully divided {x} by 10\")\n",
    "        \n",
    "    finally:\n",
    "        print(\"regardless of success, we tried and we're moving on...\")"
   ]
  },
  {
   "cell_type": "code",
   "execution_count": 16,
   "metadata": {},
   "outputs": [
    {
     "name": "stdout",
     "output_type": "stream",
     "text": [
      "100.0\n",
      "we successfully divided 1000 by 10\n",
      "regardless of success, we tried and we're moving on...\n"
     ]
    }
   ],
   "source": [
    "divide_by_ten(x = 1000)"
   ]
  },
  {
   "cell_type": "code",
   "execution_count": 23,
   "metadata": {},
   "outputs": [
    {
     "name": "stdout",
     "output_type": "stream",
     "text": [
      "you cannot divide one thousand by 10\n",
      "regardless of success, we tried and we're moving on...\n",
      "we're now running the more code\n",
      "4\n"
     ]
    }
   ],
   "source": [
    "divide_by_ten(x = \"one thousand\")\n",
    "\n",
    "print(\"we're now running the more code\")\n",
    "print(2*2)"
   ]
  },
  {
   "cell_type": "code",
   "execution_count": 19,
   "metadata": {},
   "outputs": [
    {
     "ename": "TypeError",
     "evalue": "unsupported operand type(s) for /: 'str' and 'int'",
     "output_type": "error",
     "traceback": [
      "\u001b[1;31m---------------------------------------------------------------------------\u001b[0m",
      "\u001b[1;31mTypeError\u001b[0m                                 Traceback (most recent call last)",
      "\u001b[1;32m<ipython-input-19-0e670da3a180>\u001b[0m in \u001b[0;36m<module>\u001b[1;34m\u001b[0m\n\u001b[1;32m----> 1\u001b[1;33m \u001b[1;34m\"one thousand\"\u001b[0m \u001b[1;33m/\u001b[0m \u001b[1;36m10\u001b[0m\u001b[1;33m\u001b[0m\u001b[1;33m\u001b[0m\u001b[0m\n\u001b[0m",
      "\u001b[1;31mTypeError\u001b[0m: unsupported operand type(s) for /: 'str' and 'int'"
     ]
    }
   ],
   "source": [
    "\"one thousand\" / 10"
   ]
  },
  {
   "cell_type": "markdown",
   "metadata": {},
   "source": [
    "### second example of exception"
   ]
  },
  {
   "cell_type": "code",
   "execution_count": 24,
   "metadata": {},
   "outputs": [],
   "source": [
    "# function to read and print contents of a local text file\n",
    "def open_text_file_v1(filename: str):\n",
    "    \n",
    "    # try to open the text file\n",
    "    try:\n",
    "        with open(filename) as file:\n",
    "            read_data = file.read()\n",
    "            print(read_data)\n",
    "            \n",
    "    except:\n",
    "        print(f\"{filename} not found\")"
   ]
  },
  {
   "cell_type": "code",
   "execution_count": 26,
   "metadata": {},
   "outputs": [
    {
     "name": "stdout",
     "output_type": "stream",
     "text": [
      "python_example.txt not found\n"
     ]
    }
   ],
   "source": [
    "open_text_file_v1(filename = r'python_example.txt')"
   ]
  },
  {
   "cell_type": "code",
   "execution_count": 27,
   "metadata": {},
   "outputs": [],
   "source": [
    "# second version of function leveraging FileNotFoundError\n",
    "def open_text_file_v2(filename: str):\n",
    "    \n",
    "    # try to open the text file\n",
    "    try:\n",
    "        with open(filename) as file:\n",
    "            read_data = file.read()\n",
    "            print(read_data)\n",
    "            \n",
    "    except FileNotFoundError as fnf_error:\n",
    "        print(fnf_error)"
   ]
  },
  {
   "cell_type": "code",
   "execution_count": 28,
   "metadata": {},
   "outputs": [
    {
     "name": "stdout",
     "output_type": "stream",
     "text": [
      "[Errno 2] No such file or directory: 'python_example.txt'\n"
     ]
    }
   ],
   "source": [
    "open_text_file_v2(filename = r'python_example.txt')"
   ]
  },
  {
   "cell_type": "code",
   "execution_count": 30,
   "metadata": {},
   "outputs": [],
   "source": [
    "# third version of function with multiple exceptions\n",
    "def open_text_file_v3(filename: str):\n",
    "    \n",
    "    # try to open the text file\n",
    "    try:\n",
    "        with open(filename) as file:\n",
    "            read_data = file.read()\n",
    "            print(read_data)\n",
    "            \n",
    "    except FileNotFoundError as fnf_error:\n",
    "        print(fnf_error)\n",
    "        \n",
    "    except:\n",
    "        print(\"an exception that was not a FNF error\")"
   ]
  },
  {
   "cell_type": "code",
   "execution_count": 33,
   "metadata": {},
   "outputs": [
    {
     "name": "stdout",
     "output_type": "stream",
     "text": [
      "an exception that was not a FNF error\n"
     ]
    }
   ],
   "source": [
    "open_text_file_v3(filename = r'excel_example.xlsx')"
   ]
  },
  {
   "cell_type": "markdown",
   "metadata": {},
   "source": [
    "# Logging with logging library\n",
    "- logging is in the *python Standard Library*\n",
    "---"
   ]
  },
  {
   "cell_type": "code",
   "execution_count": 34,
   "metadata": {},
   "outputs": [],
   "source": [
    "# function that converts kilograms, tons, and ounces into pounds\n",
    "def weight_to_lbs_converter(weight: float, units: str):\n",
    "    \n",
    "    if units == \"ounce\":\n",
    "        \n",
    "        return weight * 0.0625\n",
    "    \n",
    "    elif units == \"kilogram\":\n",
    "        \n",
    "        return weight * 2.20462\n",
    "    \n",
    "    elif units == \"ton\":\n",
    "        \n",
    "        return weight * 2000"
   ]
  },
  {
   "cell_type": "code",
   "execution_count": 35,
   "metadata": {},
   "outputs": [
    {
     "data": {
      "text/plain": [
       "440.924"
      ]
     },
     "execution_count": 35,
     "metadata": {},
     "output_type": "execute_result"
    }
   ],
   "source": [
    "weight_to_lbs_converter(weight = 200, units = \"kilogram\")"
   ]
  },
  {
   "cell_type": "code",
   "execution_count": 38,
   "metadata": {},
   "outputs": [
    {
     "name": "stdout",
     "output_type": "stream",
     "text": [
      "1.25\n"
     ]
    }
   ],
   "source": [
    "# add logging features to weight conversion function\n",
    "import logging\n",
    "logging.basicConfig(filename = 'example_v1.log', level = logging.DEBUG)\n",
    "\n",
    "def weight_to_lbs_converter(weight: float, units: str):\n",
    "    \n",
    "    logging.info(\"weight_to_lbs_converter was started\")\n",
    "    logging.info(f\"units are {units}, weight is {weight}\")\n",
    "    \n",
    "    if weight >= 1000000 and units == \"ton\":\n",
    "        logging.warning(\"the weight is very heavy\")\n",
    "    \n",
    "    if units == \"ounce\":\n",
    "        \n",
    "        logging.info(f\"converting ounces to pounds\")\n",
    "        return weight * 0.0625\n",
    "    \n",
    "    elif units == \"kilogram\":\n",
    "        \n",
    "        logging.info(f\"converting kilograms to pounds\")\n",
    "        return weight * 2.20462\n",
    "    \n",
    "    elif units == \"ton\":\n",
    "        \n",
    "        logging.info(f\"converting tons to pounds\")\n",
    "        return weight * 2000\n",
    "    \n",
    "print(weight_to_lbs_converter(weight = 20, units = \"ounce\"))\n",
    "logging.info(\"conversion function is complete\")"
   ]
  },
  {
   "cell_type": "markdown",
   "metadata": {},
   "source": [
    "# let's log with the IceCream library\n",
    "---"
   ]
  },
  {
   "cell_type": "code",
   "execution_count": null,
   "metadata": {},
   "outputs": [],
   "source": [
    "# run this line to install IceCream library\n",
    "pip install icecream"
   ]
  },
  {
   "cell_type": "code",
   "execution_count": null,
   "metadata": {},
   "outputs": [],
   "source": [
    "# then, restart your kernel in Jupyter Notebook ribbon"
   ]
  },
  {
   "cell_type": "code",
   "execution_count": 39,
   "metadata": {},
   "outputs": [],
   "source": [
    "from icecream import ic\n",
    "\n",
    "def double_integer(x: int):\n",
    "    return x * 2\n",
    "\n",
    "def triple_integer(y: int):\n",
    "    return y * 3\n",
    "\n",
    "def print_name_backwards(name: str):\n",
    "    # print the name backwards\n",
    "    print(name[::-1])"
   ]
  },
  {
   "cell_type": "code",
   "execution_count": 40,
   "metadata": {},
   "outputs": [
    {
     "name": "stderr",
     "output_type": "stream",
     "text": [
      "ic| double_integer(x = 5): 10\n",
      "ic| triple_integer(y = 5): 15\n",
      "ic| print_name_backwards(name = \"Michael\"): None\n"
     ]
    },
    {
     "name": "stdout",
     "output_type": "stream",
     "text": [
      "leahciM\n"
     ]
    }
   ],
   "source": [
    "ic(double_integer(x = 5))\n",
    "ic(triple_integer(y = 5))\n",
    "ic(print_name_backwards(name = \"Michael\"))"
   ]
  },
  {
   "cell_type": "code",
   "execution_count": 50,
   "metadata": {},
   "outputs": [],
   "source": [
    "from icecream import ic\n",
    "\n",
    "# function that converts kilograms, tons, and ounces into pounds\n",
    "def weight_to_lbs_converter(weight: float, units: str):\n",
    "    \n",
    "    ic(\"started converter\")\n",
    "    ic(weight, units)\n",
    "    \n",
    "    if units == \"ounce\":\n",
    "        \n",
    "        ic(\"reached ounce if statement\")\n",
    "        return weight * 0.0625\n",
    "    \n",
    "    elif units == \"kilogram\":\n",
    "        \n",
    "        ic(\"reached kilogram else if statement\")\n",
    "        return weight * 2.20462\n",
    "    \n",
    "    elif units == \"ton\":\n",
    "        \n",
    "        ic(\"reached ton else if statement\")\n",
    "        return weight * 2000"
   ]
  },
  {
   "cell_type": "code",
   "execution_count": 51,
   "metadata": {},
   "outputs": [
    {
     "name": "stderr",
     "output_type": "stream",
     "text": [
      "ic| 'started converter'\n",
      "ic| weight: 100, units: 'ounce'\n",
      "ic| 'reached ounce if statement'\n"
     ]
    },
    {
     "data": {
      "text/plain": [
       "6.25"
      ]
     },
     "execution_count": 51,
     "metadata": {},
     "output_type": "execute_result"
    }
   ],
   "source": [
    "weight_to_lbs_converter(weight = 100, units = \"ounce\")"
   ]
  },
  {
   "cell_type": "code",
   "execution_count": 53,
   "metadata": {},
   "outputs": [
    {
     "name": "stderr",
     "output_type": "stream",
     "text": [
      "IceCream output -> x: 10\n"
     ]
    },
    {
     "data": {
      "text/plain": [
       "10"
      ]
     },
     "execution_count": 53,
     "metadata": {},
     "output_type": "execute_result"
    }
   ],
   "source": [
    "from icecream import ic\n",
    "ic.configureOutput(prefix = \"IceCream output -> \")\n",
    "\n",
    "x = 10\n",
    "ic(x)"
   ]
  },
  {
   "cell_type": "code",
   "execution_count": 58,
   "metadata": {},
   "outputs": [],
   "source": [
    "def update_variable_type(x: int):\n",
    "    \n",
    "    ic(type(x))\n",
    "    \n",
    "    x = str(x)\n",
    "    ic(type(x))\n",
    "    \n",
    "    x = float(x)\n",
    "    ic(type(x))\n",
    "    \n",
    "    x = None\n",
    "    ic(type(x))"
   ]
  },
  {
   "cell_type": "code",
   "execution_count": 59,
   "metadata": {},
   "outputs": [
    {
     "name": "stderr",
     "output_type": "stream",
     "text": [
      "IceCream output -> type(x): <class 'int'>\n",
      "IceCream output -> type(x): <class 'str'>\n",
      "IceCream output -> type(x): <class 'float'>\n",
      "IceCream output -> type(x): <class 'NoneType'>\n"
     ]
    }
   ],
   "source": [
    "update_variable_type(7)"
   ]
  },
  {
   "cell_type": "code",
   "execution_count": null,
   "metadata": {},
   "outputs": [],
   "source": [
    "# bonus assignment on Blackboard!"
   ]
  }
 ],
 "metadata": {
  "kernelspec": {
   "display_name": "Python 3 (ipykernel)",
   "language": "python",
   "name": "python3"
  },
  "language_info": {
   "codemirror_mode": {
    "name": "ipython",
    "version": 3
   },
   "file_extension": ".py",
   "mimetype": "text/x-python",
   "name": "python",
   "nbconvert_exporter": "python",
   "pygments_lexer": "ipython3",
   "version": "3.9.13"
  }
 },
 "nbformat": 4,
 "nbformat_minor": 2
}
