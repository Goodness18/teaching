{
 "cells": [
  {
   "cell_type": "markdown",
   "id": "442a030a",
   "metadata": {},
   "source": [
    "### Example 1: One sample t test against a known mean"
   ]
  },
  {
   "cell_type": "code",
   "execution_count": 17,
   "id": "ad97a0b6",
   "metadata": {},
   "outputs": [],
   "source": [
    "from scipy.stats import t,ttest_1samp\n",
    "def one_sample_t_test(data,mean,alpha,tails):\n",
    "    dof = len(data)-1\n",
    "    if tails==2:\n",
    "        t_critical = t.ppf(1-alpha/2,dof)\n",
    "    else:\n",
    "        t_critical = t.ppf(1-alpha,dof)\n",
    "    t_test,p_value = ttest_1samp(data,mean)\n",
    "    message = 't_test:{} & p_value:{}'.format(t_test,p_value)\n",
    "    if ((t_test>t_critical) or (t_test<-t_critical)) and (p_value<alpha):\n",
    "        return 'Reject Null Hypothesis with {}'.format(message)\n",
    "    else:\n",
    "        return 'Faiil to Reject null Hypothesis with {}'.format(message)"
   ]
  },
  {
   "cell_type": "code",
   "execution_count": 18,
   "id": "13cb7036",
   "metadata": {},
   "outputs": [
    {
     "data": {
      "text/plain": [
       "'Reject Null Hypothesis with t_test:5.572129475421889 & p_value:0.00012140938063442964'"
      ]
     },
     "execution_count": 18,
     "metadata": {},
     "output_type": "execute_result"
    }
   ],
   "source": [
    "blood_pressure_measurements = [183,152,178,157,194,163,144,114,178,118,158,172,138]\n",
    "mean = 120\n",
    "one_sample_t_test(blood_pressure_measurements,mean,alpha=0.01,tails=1)"
   ]
  },
  {
   "cell_type": "markdown",
   "id": "d99d83c0",
   "metadata": {},
   "source": [
    "### Example 2: Two sample unpaired t-test (equal variance)"
   ]
  },
  {
   "cell_type": "code",
   "execution_count": 22,
   "id": "0c2e3f73",
   "metadata": {},
   "outputs": [],
   "source": [
    "from scipy.stats import t,ttest_ind\n",
    "\n",
    "def two_sample_t_test(dataA,dataB,alpha,tails):\n",
    "    dof = len(dataA)+len(dataB)-2 \n",
    "    #assume equal sample variance, \n",
    "    #otherwise use welch's formula\n",
    "    if tails==2:\n",
    "        t_critical = t.ppf(1-alpha/2,dof) #if two tail, area for alpha get split into two\n",
    "    else:\n",
    "        t_critical = t.ppf(1-alpha,dof)\n",
    "    t_test,p_value = ttest_ind(dataA,dataB)\n",
    "    message = 't_test:{} & p_value:{}'.format(t_test,p_value)\n",
    "    if ((t_test>t_critical) or (t_test<-t_critical)) and (p_value<alpha):\n",
    "        return 'Reject Null Hypothesis with {}'.format(message)\n",
    "    else:\n",
    "        return 'Fail to Reject null Hypothesis with {}'.format(message)"
   ]
  },
  {
   "cell_type": "code",
   "execution_count": 23,
   "id": "f5b0934d",
   "metadata": {},
   "outputs": [
    {
     "data": {
      "text/plain": [
       "'Fail to Reject null Hypothesis with t_test:-1.215287240500401 & p_value:0.2589021750101296'"
      ]
     },
     "execution_count": 23,
     "metadata": {},
     "output_type": "execute_result"
    }
   ],
   "source": [
    "AgeGroup1 = [23, 25, 29, 31, 28]\n",
    "AgeGroup2 = [26, 30, 32, 33, 27]\n",
    "two_sample_t_test(AgeGroup1,AgeGroup2,alpha=0.01,tails=2)"
   ]
  },
  {
   "cell_type": "markdown",
   "id": "e958ca30",
   "metadata": {},
   "source": [
    "### Example 3: One sample Z-test"
   ]
  },
  {
   "cell_type": "code",
   "execution_count": 26,
   "id": "990bbe90",
   "metadata": {},
   "outputs": [],
   "source": [
    "from statsmodels.stats.weightstats import ztest\n",
    "from scipy.stats import norm\n",
    "def one_sample_z_test(data,mean,alpha,tails):\n",
    "    if tails==2:\n",
    "        z_test,p_value = ztest(data,value=mean,alternative='two-sided')\n",
    "        z_critical = norm.ppf(1-alpha/2)\n",
    "    else:\n",
    "        z_test,p_value = ztest(data,value=mean)\n",
    "        z_critical = norm.ppf(1-alpha)\n",
    "    message = 'z_test:{} & p_value:{}'.format(z_test,p_value)\n",
    "    if ((z_test>z_critical) or (z_test<-z_critical)) and (p_value<alpha):\n",
    "        return 'Reject Null Hypothesis with {}'.format(message)\n",
    "    else:\n",
    "        return 'Fail to Reject null Hypothesis with {}'.format(message)"
   ]
  },
  {
   "cell_type": "code",
   "execution_count": 50,
   "id": "c8d82ec8",
   "metadata": {},
   "outputs": [
    {
     "data": {
      "text/plain": [
       "'Reject Null Hypothesis with z_test:7.327291827127155 & p_value:2.348500634635068e-13'"
      ]
     },
     "execution_count": 50,
     "metadata": {},
     "output_type": "execute_result"
    }
   ],
   "source": [
    "# Sample data\n",
    "sample = np.random.normal(loc=37, scale=3, size=100)\n",
    "\n",
    "# Population mean under the null hypothesis\n",
    "null_mean = 35\n",
    "\n",
    "\n",
    "one_sample_z_test(sample,null_mean,alpha=0.05,tails=2)"
   ]
  },
  {
   "cell_type": "markdown",
   "id": "a1c04d7e",
   "metadata": {},
   "source": [
    "### Example 4: Two sample Z-test"
   ]
  },
  {
   "cell_type": "markdown",
   "id": "12d9643e",
   "metadata": {},
   "source": [
    "$$\n",
    "Z = \\frac{\\bar{X}_1 - \\bar{X}_2}{\\sqrt{\\frac{\\sigma_1^2}{n_1} + \\frac{\\sigma_2^2}{n_2}}}\n",
    "$$\n",
    "\n",
    "\n",
    "$$\n",
    "\\bar{X}_1\\text{:}\\text{sample 1 mean}\n",
    "$$\n",
    "$$\n",
    "\\sigma_1\\text{:}\\text{sample 1 standard deviation}\n",
    "$$\n",
    "$$\n",
    "\\text{n}_{1}\\text{:} \\text{sample 1 size}\n",
    "$$\n",
    "**2 samples**\n"
   ]
  },
  {
   "cell_type": "code",
   "execution_count": 48,
   "id": "2a80415d",
   "metadata": {},
   "outputs": [],
   "source": [
    "import numpy as np\n",
    "from scipy.stats import norm\n",
    "\n",
    "def two_sample_z_test(dataA,dataB,alpha,tails):\n",
    "    meanA,std_devA = np.mean(dataA),np.std(dataA)\n",
    "    meanB,std_devB = np.mean(dataB),np.std(dataB)\n",
    "    \n",
    "    standard_error = np.sqrt((std_devA**2/len(dataA))+(std_devB**2/len(dataB)))\n",
    "    \n",
    "    z_test = (meanA - meanB)/standard_error\n",
    "    \n",
    "    \n",
    "    z_critical = norm.ppf(1-alpha/tails)\n",
    "    p_value = norm.sf(abs(z_test)) * tails \n",
    "    \n",
    "    message = 'z_test:{} & p_value:{}'.format(z_test,p_value)\n",
    "    if ((z_test>z_critical) or (z_test<-z_critical)) and (p_value<alpha):\n",
    "        return 'Reject Null Hypothesis with {}'.format(message)\n",
    "    else:\n",
    "        return 'Fail to Reject null Hypothesis with {}'.format(message)"
   ]
  },
  {
   "cell_type": "code",
   "execution_count": 49,
   "id": "f76a354f",
   "metadata": {},
   "outputs": [
    {
     "data": {
      "text/plain": [
       "'Reject Null Hypothesis with z_test:-5.801195517965025 & p_value:6.584377080983638e-09'"
      ]
     },
     "execution_count": 49,
     "metadata": {},
     "output_type": "execute_result"
    }
   ],
   "source": [
    "import numpy as np\n",
    "group1 = np.random.normal(loc=10, scale=3, size=100)\n",
    "group2 = np.random.normal(loc=12, scale=3, size=120)\n",
    "two_sample_z_test(group1,group2,alpha=0.01,tails=2)"
   ]
  },
  {
   "cell_type": "markdown",
   "id": "5a3d545c",
   "metadata": {},
   "source": [
    "### Example 5: Chi2 test of independence"
   ]
  },
  {
   "cell_type": "code",
   "execution_count": 66,
   "id": "ea5b712e",
   "metadata": {},
   "outputs": [],
   "source": [
    "from scipy.stats import chi2_contingency,chi2\n",
    "\n",
    "def chi2_independence(data,alpha):\n",
    "    chi2_test,p_value,dof,ex = chi2_contingency(data)\n",
    "    chi2_critical = chi2.ppf(1-alpha,dof)\n",
    "    message = 'chi2_test:{} & p_value:{}'.format(chi2_test,p_value)\n",
    "    if (chi2_test>chi2_critical) and (p_value<alpha):\n",
    "        return 'Reject Null Hypothesis with {}'.format(message)\n",
    "    else:\n",
    "        return 'Fail to Reject null Hypothesis with {}'.format(message)"
   ]
  },
  {
   "cell_type": "code",
   "execution_count": 67,
   "id": "348dc823",
   "metadata": {},
   "outputs": [
    {
     "data": {
      "text/plain": [
       "'Reject Null Hypothesis with chi2_test:31.750822524947655 & p_value:1.2746662612761378e-07'"
      ]
     },
     "execution_count": 67,
     "metadata": {},
     "output_type": "execute_result"
    }
   ],
   "source": [
    "data = [[35,12,5],[6,24,18]]\n",
    "\n",
    "chi2_independence(data,0.01)"
   ]
  },
  {
   "cell_type": "code",
   "execution_count": null,
   "id": "30abd05a",
   "metadata": {},
   "outputs": [],
   "source": []
  }
 ],
 "metadata": {
  "kernelspec": {
   "display_name": "Python 3 (ipykernel)",
   "language": "python",
   "name": "python3"
  },
  "language_info": {
   "codemirror_mode": {
    "name": "ipython",
    "version": 3
   },
   "file_extension": ".py",
   "mimetype": "text/x-python",
   "name": "python",
   "nbconvert_exporter": "python",
   "pygments_lexer": "ipython3",
   "version": "3.9.13"
  }
 },
 "nbformat": 4,
 "nbformat_minor": 5
}
