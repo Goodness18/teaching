{
 "cells": [
  {
   "cell_type": "markdown",
   "id": "49051597",
   "metadata": {},
   "source": [
    "# Hypothesis Testing with Python\n",
    "\n",
    "* <a href=\"\">Github Notebook link</a>\n",
    "* <a href=\"mailto:joeganserlectures@gmail.com\">By Joe Ganser</a>"
   ]
  },
  {
   "cell_type": "markdown",
   "id": "780d3801",
   "metadata": {},
   "source": [
    "### Exercise 1: t-test degrees of freedom\n",
    "\n",
    "Using the formula below (which applies to t-tests with unequal degrees of freedom), create a python function that performs this calculation\n",
    "\n",
    "$$\n",
    "\\text{df} = \\frac{{\\left(\\frac{{s_1^2}}{{n_1}} + \\frac{{s_2^2}}{{n_2}}\\right)^2}}{{\\left(\\frac{{s_1^2}}{{n_1}}\\right)^2 / (n_1 - 1) + \\left(\\frac{{s_2^2}}{{n_2}}\\right)^2 / (n_2 - 1)}}\n",
    "$$"
   ]
  },
  {
   "cell_type": "markdown",
   "id": "d18db752",
   "metadata": {},
   "source": [
    "* s1 = standard deviation of sample 1\n",
    "\n",
    "* n1 = sample 1 size\n",
    "\n",
    "Calculate the degrees of freedom for:\n",
    "\n",
    "* s1 = 5.32, n1 = 10\n",
    "* s2 = 7.03, n2 = 12"
   ]
  },
  {
   "cell_type": "code",
   "execution_count": 7,
   "id": "796f9370",
   "metadata": {},
   "outputs": [
    {
     "data": {
      "text/plain": [
       "19.853795244472487"
      ]
     },
     "execution_count": 7,
     "metadata": {},
     "output_type": "execute_result"
    }
   ],
   "source": [
    "def degrees_of_freedom_t_test(s1,n1,s2,n2):\n",
    "    s1n1 = (s1**2)/n1\n",
    "    s2n2 = (s2**2)/n2\n",
    "    top = (s1n1+s2n2)**2\n",
    "    bottom = ((s1n1)**2)/(n1-1) + ((s2n2)**2)/(n2-1)\n",
    "    return top/bottom\n",
    "\n",
    "degrees_of_freedom_t_test(5.32,10,7.03,12)"
   ]
  },
  {
   "cell_type": "markdown",
   "id": "6709afae",
   "metadata": {},
   "source": [
    "### Exercise 2: Perform a two sample t-test\n",
    "\n",
    "Create a python function performs a two sample t-test of unequal variances. Use your result from problem 1 to calculate the degrees of freedom. The function arguments should be;\n",
    "\n",
    "* sample_mean1\n",
    "* sample_mean2\n",
    "* sample_std1 (standard deviation)\n",
    "* sample_Std2\n",
    "* n1 (sample 1 size)\n",
    "* n2\n",
    "* tails (the number of tails for the test)\n",
    "* alpha (the significance level)\n",
    "\n",
    "Make the function print the;\n",
    "* p_value\n",
    "* test statistic\n",
    "* critical value\n",
    "* alpha\n",
    "\n",
    "Make the function `return` one of two conclusions;\n",
    "* `Reject null hypothesis` (if `p_value < alpha` and `|test_statistic|>|critical_value|`)\n",
    "* Otherwise, `Fail to reject null hypothesis`\n",
    "\n",
    "**RECALL**\n",
    "We calculate the `test_statistic` by;\n",
    "$$\n",
    "t = \\frac{{\\bar{X}_1 - \\bar{X}_2}}{{\\sqrt{\\frac{{s_1^2}}{{n_1}} + \\frac{{s_2^2}}{{n_2}}}}}\n",
    "$$\n",
    "\n",
    "**HINTS**\n",
    "* `p_value` can be calculated using `(1 - t.cdf(abs(t_statistic), df))` *FOR EACH TAIL*\n",
    "* `critical_value` can be calculate using `t.ppf(1 - alpha / tails, df)`\n",
    "\n",
    "Run this function for the following values (from lecture notes):\n",
    "\n",
    "* sample_mean1 = 22.29\n",
    "* sample_mean2 = 16.3\n",
    "* sample_std1 = 5.32\n",
    "* sample_std2 = 7.03\n",
    "* n1 = 10\n",
    "* n2 = 12\n",
    "* tails = 2\n",
    "* alpha = 0.05"
   ]
  },
  {
   "cell_type": "code",
   "execution_count": 9,
   "id": "063ac160",
   "metadata": {},
   "outputs": [
    {
     "name": "stdout",
     "output_type": "stream",
     "text": [
      "p_value: 0.03425038740869879\n",
      "critical_value: 2.0859634472658364\n",
      "test_statistic: 2.2723574890239813\n",
      "Significance level alpha: 0.05\n"
     ]
    },
    {
     "data": {
      "text/plain": [
       "'Reject Null Hypothesis'"
      ]
     },
     "execution_count": 9,
     "metadata": {},
     "output_type": "execute_result"
    }
   ],
   "source": [
    "from scipy.stats import t\n",
    "\n",
    "def calculate_t_test(sample_mean1, sample_mean2, sample_std1, sample_std2, n1, n2, tails,alpha):\n",
    "    # Calculate the t-statistic\n",
    "    df = round(degrees_of_freedom_t_test(sample_std1,n1,sample_std2,n2))\n",
    "    standard_error = ((sample_std1 ** 2) / n1 + (sample_std2 ** 2) / n2) ** 0.5\n",
    "    test_statistic = (sample_mean1 - sample_mean2) / (standard_error)\n",
    "\n",
    "    # Calculate the p-value\n",
    "    p_value = tails*(1 - t.cdf(abs(test_statistic), df))\n",
    "\n",
    "    # Calculate the critical value\n",
    "    critical_value = t.ppf(1 - alpha / tails, df)\n",
    "    \n",
    "    print('p_value: {}'.format(p_value))\n",
    "    print('critical_value: {}'.format(critical_value))\n",
    "    print('test_statistic: {}'.format(test_statistic))\n",
    "    print('Significance level alpha: {}'.format(alpha))\n",
    "    \n",
    "    if p_value<=alpha:\n",
    "        if critical_value<0 and test_statistic<critical_value:\n",
    "            return \"Reject Null Hypothesis\"\n",
    "        elif critical_value>0 and test_statistic>critical_value:\n",
    "            return \"Reject Null Hypothesis\"\n",
    "    else:\n",
    "        return \"Fail to Reject Null Hypothesis\"\n",
    "    \n",
    "calculate_t_test(22.29, 16.3, 5.32, 7.03, 10, 12, tails=2,alpha=0.05)"
   ]
  },
  {
   "cell_type": "code",
   "execution_count": null,
   "id": "cfd3d5ef",
   "metadata": {},
   "outputs": [],
   "source": []
  }
 ],
 "metadata": {
  "kernelspec": {
   "display_name": "Python 3 (ipykernel)",
   "language": "python",
   "name": "python3"
  },
  "language_info": {
   "codemirror_mode": {
    "name": "ipython",
    "version": 3
   },
   "file_extension": ".py",
   "mimetype": "text/x-python",
   "name": "python",
   "nbconvert_exporter": "python",
   "pygments_lexer": "ipython3",
   "version": "3.9.13"
  }
 },
 "nbformat": 4,
 "nbformat_minor": 5
}
