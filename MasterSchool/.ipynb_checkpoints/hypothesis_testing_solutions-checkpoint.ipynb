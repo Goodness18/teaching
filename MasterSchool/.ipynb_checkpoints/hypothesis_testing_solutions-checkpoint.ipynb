{
 "cells": [
  {
   "cell_type": "markdown",
   "id": "392ffe97",
   "metadata": {},
   "source": [
    "# Hypothesis Testing with Python\n",
    "\n",
    "* <a href=\"\">Github Notebook link</a>\n",
    "* <a href=\"mailto:joeganserlectures@gmail.com\">By Joe Ganser</a>"
   ]
  },
  {
   "cell_type": "markdown",
   "id": "dbe9883f",
   "metadata": {},
   "source": [
    "### Exercise 1: t-test degrees of freedom\n",
    "\n",
    "Using the formula below (which applies to t-tests with unequal degrees of freedom), create a python function that performs this calculation\n",
    "\n",
    "$$\n",
    "\\text{df} = \\frac{{\\left(\\frac{{s_1^2}}{{n_1}} + \\frac{{s_2^2}}{{n_2}}\\right)^2}}{{\\left(\\frac{{s_1^2}}{{n_1}}\\right)^2 / (n_1 - 1) + \\left(\\frac{{s_2^2}}{{n_2}}\\right)^2 / (n_2 - 1)}}\n",
    "$$"
   ]
  },
  {
   "cell_type": "markdown",
   "id": "b932320b",
   "metadata": {},
   "source": [
    "* s1 = standard deviation of sample 1\n",
    "\n",
    "* n1 = sample 1 size\n",
    "\n",
    "Calculate the degrees of freedom for:\n",
    "\n",
    "* s1 = 5.32, n1 = 10\n",
    "* s2 = 7.03, n2 = 12"
   ]
  },
  {
   "cell_type": "code",
   "execution_count": 7,
   "id": "566f98a6",
   "metadata": {},
   "outputs": [
    {
     "data": {
      "text/plain": [
       "19.853795244472487"
      ]
     },
     "execution_count": 7,
     "metadata": {},
     "output_type": "execute_result"
    }
   ],
   "source": [
    "def degrees_of_freedom_t_test(s1,n1,s2,n2):\n",
    "    s1n1 = (s1**2)/n1\n",
    "    s2n2 = (s2**2)/n2\n",
    "    top = (s1n1+s2n2)**2\n",
    "    bottom = ((s1n1)**2)/(n1-1) + ((s2n2)**2)/(n2-1)\n",
    "    return top/bottom\n",
    "\n",
    "degrees_of_freedom_t_test(5.32,10,7.03,12)"
   ]
  },
  {
   "cell_type": "markdown",
   "id": "29663145",
   "metadata": {},
   "source": [
    "### Exercise 2: Perform a two sample t-test\n",
    "\n",
    "Create a python function performs a two sample t-test of unequal variances. Use your result from problem 1 to calculate the degrees of freedom. The function arguments should be;\n",
    "\n",
    "* sample_mean1\n",
    "* sample_mean2\n",
    "* sample_std1 (standard deviation)\n",
    "* sample_std2\n",
    "* n1 (sample 1 size)\n",
    "* n2\n",
    "* tails (the number of tails for the test)\n",
    "* alpha (the significance level)\n",
    "\n",
    "Make the function print the;\n",
    "* p_value\n",
    "* test statistic\n",
    "* critical value\n",
    "* alpha\n",
    "\n",
    "Make the function `return` one of two conclusions;\n",
    "* `Reject null hypothesis` (if `p_value < alpha` and `|test_statistic|>|critical_value|`)\n",
    "* Otherwise, `Fail to reject null hypothesis`\n",
    "\n",
    "**RECALL**\n",
    "We calculate the `test_statistic` by;\n",
    "$$\n",
    "t = \\frac{{\\bar{X}_1 - \\bar{X}_2}}{{\\sqrt{\\frac{{s_1^2}}{{n_1}} + \\frac{{s_2^2}}{{n_2}}}}}\n",
    "$$\n",
    "\n",
    "**HINTS**\n",
    "* `p_value` can be calculated using `(1 - t.cdf(abs(t_statistic), df))` *FOR EACH TAIL*\n",
    "* `critical_value` can be calculate using `t.ppf(1 - alpha / tails, df)`\n",
    "\n",
    "Run this function for the following values (from lecture notes):\n",
    "\n",
    "* sample_mean1 = 22.29\n",
    "* sample_mean2 = 16.3\n",
    "* sample_std1 = 5.32\n",
    "* sample_std2 = 7.03\n",
    "* n1 = 10\n",
    "* n2 = 12\n",
    "* tails = 2\n",
    "* alpha = 0.05"
   ]
  },
  {
   "cell_type": "code",
   "execution_count": 9,
   "id": "55c80437",
   "metadata": {},
   "outputs": [
    {
     "name": "stdout",
     "output_type": "stream",
     "text": [
      "p_value: 0.03425038740869879\n",
      "critical_value: 2.0859634472658364\n",
      "test_statistic: 2.2723574890239813\n",
      "Significance level alpha: 0.05\n"
     ]
    },
    {
     "data": {
      "text/plain": [
       "'Reject Null Hypothesis'"
      ]
     },
     "execution_count": 9,
     "metadata": {},
     "output_type": "execute_result"
    }
   ],
   "source": [
    "from scipy.stats import t\n",
    "\n",
    "def calculate_t_test(sample_mean1, sample_mean2, sample_std1, sample_std2, n1, n2, tails,alpha):\n",
    "    # Calculate the t-statistic\n",
    "    df = round(degrees_of_freedom_t_test(sample_std1,n1,sample_std2,n2))\n",
    "    standard_error = ((sample_std1 ** 2) / n1 + (sample_std2 ** 2) / n2) ** 0.5\n",
    "    test_statistic = (sample_mean1 - sample_mean2) / (standard_error)\n",
    "\n",
    "    # Calculate the p-value\n",
    "    p_value = tails*(1 - t.cdf(abs(test_statistic), df))\n",
    "\n",
    "    # Calculate the critical value\n",
    "    critical_value = t.ppf(1 - alpha / tails, df)\n",
    "    \n",
    "    print('p_value: {}'.format(p_value))\n",
    "    print('critical_value: {}'.format(critical_value))\n",
    "    print('test_statistic: {}'.format(test_statistic))\n",
    "    print('Significance level alpha: {}'.format(alpha))\n",
    "    \n",
    "    if p_value<=alpha:\n",
    "        if critical_value<0 and test_statistic<critical_value:\n",
    "            return \"Reject Null Hypothesis\"\n",
    "        elif critical_value>0 and test_statistic>critical_value:\n",
    "            return \"Reject Null Hypothesis\"\n",
    "    else:\n",
    "        return \"Fail to Reject Null Hypothesis\"\n",
    "    \n",
    "calculate_t_test(22.29, 16.3, 5.32, 7.03, 10, 12, tails=2,alpha=0.05)"
   ]
  },
  {
   "cell_type": "markdown",
   "id": "871318b4",
   "metadata": {},
   "source": [
    "### Exercise 3: Plotting a t-distribution\n",
    "\n",
    "Using `matplotlib` make a plot of the t-distribution for `20` degrees of freedom.\n",
    "* Define the horizontal values using `x = np.linspace(-4,4,500)`\n",
    "* Define the vertical values using `t.pdf(horizontal_values, degrees of freedom)`\n",
    "* Use the `plt.plot(horizontal_values, vertical_values, label = ....)` to plot the graph\n",
    "* Give the horizontal axis a label `t-score`\n",
    "* Give the vertical axis a label `Probability density`\n",
    "* Make a vertical line for the test statistic using `plt.axviline(test_statistic,linestyle=':',label='test_statistic')`\n",
    "* Give it a legend using the `plt.legend()` function\n",
    "* Shade the tails using the following;\n",
    "    * **alpha:** `plt.fill_between(x, pdf, where=(x < -critical_value) | (x > critical_value),...)` give it the color red and an alpha (transparency parameter) value of 0.2 and label of `alpha = 0.05`\n",
    "    * **p-value:** `plt.fill_between(x, pdf, where=abs(x) > test_statistic, color='darkred',...)` transparency parameter= 0.4 and label `p_value`\n",
    "* Show the plot"
   ]
  },
  {
   "cell_type": "code",
   "execution_count": 10,
   "id": "1f3d5549",
   "metadata": {},
   "outputs": [
    {
     "data": {
      "image/png": "[encoded data removed]",
      "text/plain": [
       "<Figure size 640x480 with 1 Axes>"
      ]
     },
     "metadata": {},
     "output_type": "display_data"
    }
   ],
   "source": [
    "import numpy as np\n",
    "import matplotlib.pyplot as plt\n",
    "from scipy.stats import t\n",
    "\n",
    "# Set the degrees of freedom\n",
    "df = 20\n",
    "\n",
    "# Set the range of x-values\n",
    "x = np.linspace(-4, 4, 500)\n",
    "\n",
    "# Compute the probability density function (PDF) for the t-distribution\n",
    "pdf = t.pdf(x, df)\n",
    "\n",
    "# Create the plot\n",
    "plt.plot(x, pdf, 'b-', label='t-distribution (df=20)')\n",
    "\n",
    "# Compute the critical values for alpha = 0.05 (two-tailed test)\n",
    "alpha = 0.05\n",
    "critical_value = t.ppf(1 - alpha/2, df)\n",
    "\n",
    "test_statistic = 2.272\n",
    "\n",
    "# Shade the critical regions\n",
    "plt.fill_between(x, pdf, where=(x < -critical_value) | (x > critical_value), color='red', alpha=0.2, label='Alpha = 0.05')\n",
    "plt.fill_between(x, pdf, where=abs(x) > test_statistic, color='darkred', alpha=0.4,label='p-value')\n",
    "# Add labels and a legend\n",
    "plt.xlabel('t score')\n",
    "plt.ylabel('Probability Density')\n",
    "plt.title('t-Distribution with 20 Degrees of Freedom')\n",
    "plt.axvline(test_statistic,linestyle=':',label='test statistic')\n",
    "plt.legend()\n",
    "# Display the plot\n",
    "plt.show()"
   ]
  },
  {
   "cell_type": "markdown",
   "id": "d409939b",
   "metadata": {},
   "source": [
    "### Exercise 4: Chi2 distribution\n",
    "\n",
    "Using the observations from the lecture slides;\n",
    "\n",
    "                          [[60, 40, 30]\n",
    "                           [80, 70, 50]\n",
    "                           [70, 90, 40]]\n",
    "                           \n",
    "* Perform a chi2 test using the `chi2_contingency()` function from the `scipy.stats` package\n",
    "* Let `alpha=0.05`\n",
    "* Find the `critical_value` using `chi2.ppf(1 - alpha, df)` from function from `scipy.stats`\n",
    "\n",
    "* Print `Reject the null hypothesis` if `p_value<=alpha` & `test_statistic>critical_value`\n",
    "* Otherwise, `Fail to reject null hypothesis`"
   ]
  },
  {
   "cell_type": "code",
   "execution_count": 17,
   "id": "c1264d77",
   "metadata": {},
   "outputs": [
    {
     "name": "stdout",
     "output_type": "stream",
     "text": [
      "Chi-square statistic: 8.469322344322341\n",
      "Degrees of freedom: 4\n",
      "p-value: 0.07582258667376501\n",
      "alpha: 0.05\n",
      "critical_value: 9.487729036781154\n",
      "Fail to reject null hypothesis\n"
     ]
    }
   ],
   "source": [
    "from scipy.stats import chi2_contingency,chi2\n",
    "\n",
    "# Observed frequencies (contingency table)\n",
    "alpha = 0.05\n",
    "observed_freq = np.array([[60, 40, 30],\n",
    "                          [80, 70, 50],\n",
    "                          [70, 90, 40]])\n",
    "\n",
    "# Perform chi-square test of independence\n",
    "test_statistic, p_value, df, expected_freq = chi2_contingency(observed_freq)\n",
    "critical_value = chi2.ppf(1 - alpha, df)\n",
    "\n",
    "# Print the chi-square test statistic, degrees of freedom, and p-value\n",
    "print(\"Chi-square statistic:\", test_statistic)\n",
    "print(\"Degrees of freedom:\", dof)\n",
    "print(\"p-value:\", p_value)\n",
    "print('alpha:',alpha)\n",
    "print('critical_value:',critical_value)\n",
    "\n",
    "if p_value<=alpha and test_statistic>critical_value:\n",
    "    print(\"Reject Null hypothesis\")\n",
    "else:\n",
    "    print(\"Fail to reject null hypothesis\")"
   ]
  },
  {
   "cell_type": "code",
   "execution_count": null,
   "id": "737b31ba",
   "metadata": {},
   "outputs": [],
   "source": []
  }
 ],
 "metadata": {
  "kernelspec": {
   "display_name": "Python 3 (ipykernel)",
   "language": "python",
   "name": "python3"
  },
  "language_info": {
   "codemirror_mode": {
    "name": "ipython",
    "version": 3
   },
   "file_extension": ".py",
   "mimetype": "text/x-python",
   "name": "python",
   "nbconvert_exporter": "python",
   "pygments_lexer": "ipython3",
   "version": "3.9.13"
  }
 },
 "nbformat": 4,
 "nbformat_minor": 5
}
